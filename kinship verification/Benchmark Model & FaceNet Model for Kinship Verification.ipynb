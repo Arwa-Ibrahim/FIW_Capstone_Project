{
 "cells": [
  {
   "cell_type": "markdown",
   "metadata": {},
   "source": [
    "## Overview\n",
    "\n",
    "- Kinship verification is an one_to_one classification problem that intended to determine whether or not a pair of facial images are blood relatives of a particular type (e.g., parent-child). This is a classical boolean problem with system responses being either kin and non-kin (i.e., related and unrelated, respectfully). Thus, this task tackles the one-to-one view of automatic kinship recognition.\n",
    "\n",
    "\n",
    "- To solving this task the pretrained VGGFace framework will be used so the first step is to install it along with the keras_applications pakage that contains the pretrained CNN such as VGG16, VGG19, ResNet50, Xception and much more."
   ]
  },
  {
   "cell_type": "code",
   "execution_count": 1,
   "metadata": {},
   "outputs": [],
   "source": [
    "import warnings\n",
    "warnings.filterwarnings('ignore')"
   ]
  },
  {
   "cell_type": "code",
   "execution_count": 2,
   "metadata": {},
   "outputs": [
    {
     "name": "stdout",
     "output_type": "stream",
     "text": [
      "Collecting git+https://github.com/rcmalli/keras-vggface.git\n",
      "  Cloning https://github.com/rcmalli/keras-vggface.git to /tmp/pip-req-build-8hzh69_s\n",
      "Requirement already satisfied: numpy>=1.9.1 in /opt/conda/lib/python3.6/site-packages (from keras-vggface==0.6) (1.12.1)\n",
      "Requirement already satisfied: scipy>=0.14 in /opt/conda/lib/python3.6/site-packages (from keras-vggface==0.6) (0.19.1)\n",
      "Requirement already satisfied: h5py in /opt/conda/lib/python3.6/site-packages (from keras-vggface==0.6) (2.7.1)\n",
      "Requirement already satisfied: pillow in /opt/conda/lib/python3.6/site-packages (from keras-vggface==0.6) (5.2.0)\n",
      "Requirement already satisfied: keras in /opt/conda/lib/python3.6/site-packages (from keras-vggface==0.6) (2.0.9)\n",
      "Requirement already satisfied: six>=1.9.0 in /opt/conda/lib/python3.6/site-packages (from keras-vggface==0.6) (1.11.0)\n",
      "Requirement already satisfied: pyyaml in /opt/conda/lib/python3.6/site-packages (from keras-vggface==0.6) (3.12)\n",
      "Building wheels for collected packages: keras-vggface\n",
      "  Running setup.py bdist_wheel for keras-vggface ... \u001b[?25ldone\n",
      "\u001b[?25h  Stored in directory: /tmp/pip-ephem-wheel-cache-6vjl4syr/wheels/36/07/46/06c25ce8e9cd396dabe151ea1d8a2bc28dafcb11321c1f3a6d\n",
      "Successfully built keras-vggface\n",
      "Installing collected packages: keras-vggface\n",
      "Successfully installed keras-vggface-0.6\n",
      "Collecting keras_applications\n",
      "\u001b[?25l  Downloading https://files.pythonhosted.org/packages/71/e3/19762fdfc62877ae9102edf6342d71b28fbfd9dea3d2f96a882ce099b03f/Keras_Applications-1.0.8-py3-none-any.whl (50kB)\n",
      "\u001b[K    100% |████████████████████████████████| 51kB 2.4MB/s ta 0:00:011\n",
      "\u001b[?25hRequirement already satisfied: numpy>=1.9.1 in /opt/conda/lib/python3.6/site-packages (from keras_applications) (1.12.1)\n",
      "Requirement already satisfied: h5py in /opt/conda/lib/python3.6/site-packages (from keras_applications) (2.7.1)\n",
      "Requirement already satisfied: six in /opt/conda/lib/python3.6/site-packages (from h5py->keras_applications) (1.11.0)\n",
      "Installing collected packages: keras-applications\n",
      "Successfully installed keras-applications-1.0.8\n"
     ]
    }
   ],
   "source": [
    "!pip install git+https://github.com/rcmalli/keras-vggface.git\n",
    "!pip install keras_applications"
   ]
  },
  {
   "cell_type": "markdown",
   "metadata": {},
   "source": [
    "- Importing some useful libraries and packages that will be used along the notebook."
   ]
  },
  {
   "cell_type": "code",
   "execution_count": 3,
   "metadata": {},
   "outputs": [
    {
     "name": "stderr",
     "output_type": "stream",
     "text": [
      "Using TensorFlow backend.\n"
     ]
    }
   ],
   "source": [
    "import os\n",
    "import gc\n",
    "import cv2\n",
    "import glob\n",
    "import threading\n",
    "import numpy as np \n",
    "import pandas as pd \n",
    "\n",
    "%matplotlib inline\n",
    "import matplotlib.pyplot as plt\n",
    "from random import choice, sample\n",
    "from collections import defaultdict\n",
    "from keras_vggface.utils import preprocess_input"
   ]
  },
  {
   "cell_type": "markdown",
   "metadata": {},
   "source": [
    "## Data Perprocessing\n",
    "\n",
    "- Counting the total number of images that existing in the kaggle version of the database."
   ]
  },
  {
   "cell_type": "code",
   "execution_count": 4,
   "metadata": {},
   "outputs": [
    {
     "data": {
      "text/plain": [
       "2316"
      ]
     },
     "execution_count": 4,
     "metadata": {},
     "output_type": "execute_result"
    }
   ],
   "source": [
    "#keeps all photos path in a dictionary\n",
    "allPhotos = defaultdict(list)\n",
    "for family in glob.glob(\"kaggle/train/*\"):\n",
    "    for mem in glob.glob(family+'/*'):\n",
    "        for photo in glob.glob(mem+'/*'):\n",
    "            allPhotos[mem].append(photo)\n",
    "\n",
    "#list of all members with valid photo\n",
    "ppl = list(allPhotos.keys())\n",
    "len(ppl)"
   ]
  },
  {
   "cell_type": "markdown",
   "metadata": {},
   "source": [
    "- Load the train_relationships file as a dataframe and save it in the kin_df variable.\n",
    "- Preprocess the data and replace the path of __p1__ and __p2__ columns with a correct path.\n",
    "- kin_df contains 3598 record each of which have a path for 2 pairs.\n",
    "- Cleansing the data by comparing the paths of all pairs to the true paths that exists (those are calculated in the pervious step) and thus removing those with incorrect path."
   ]
  },
  {
   "cell_type": "code",
   "execution_count": 5,
   "metadata": {},
   "outputs": [
    {
     "name": "stdout",
     "output_type": "stream",
     "text": [
      "(3598, 2)\n"
     ]
    },
    {
     "data": {
      "text/html": [
       "<div>\n",
       "<style scoped>\n",
       "    .dataframe tbody tr th:only-of-type {\n",
       "        vertical-align: middle;\n",
       "    }\n",
       "\n",
       "    .dataframe tbody tr th {\n",
       "        vertical-align: top;\n",
       "    }\n",
       "\n",
       "    .dataframe thead th {\n",
       "        text-align: right;\n",
       "    }\n",
       "</style>\n",
       "<table border=\"1\" class=\"dataframe\">\n",
       "  <thead>\n",
       "    <tr style=\"text-align: right;\">\n",
       "      <th></th>\n",
       "      <th>p1</th>\n",
       "      <th>p2</th>\n",
       "    </tr>\n",
       "  </thead>\n",
       "  <tbody>\n",
       "    <tr>\n",
       "      <th>0</th>\n",
       "      <td>kaggle/train/F0002/MID1</td>\n",
       "      <td>kaggle/train/F0002/MID3</td>\n",
       "    </tr>\n",
       "    <tr>\n",
       "      <th>1</th>\n",
       "      <td>kaggle/train/F0002/MID2</td>\n",
       "      <td>kaggle/train/F0002/MID3</td>\n",
       "    </tr>\n",
       "    <tr>\n",
       "      <th>2</th>\n",
       "      <td>kaggle/train/F0005/MID1</td>\n",
       "      <td>kaggle/train/F0005/MID2</td>\n",
       "    </tr>\n",
       "    <tr>\n",
       "      <th>3</th>\n",
       "      <td>kaggle/train/F0005/MID3</td>\n",
       "      <td>kaggle/train/F0005/MID2</td>\n",
       "    </tr>\n",
       "    <tr>\n",
       "      <th>4</th>\n",
       "      <td>kaggle/train/F0009/MID1</td>\n",
       "      <td>kaggle/train/F0009/MID4</td>\n",
       "    </tr>\n",
       "  </tbody>\n",
       "</table>\n",
       "</div>"
      ],
      "text/plain": [
       "                        p1                       p2\n",
       "0  kaggle/train/F0002/MID1  kaggle/train/F0002/MID3\n",
       "1  kaggle/train/F0002/MID2  kaggle/train/F0002/MID3\n",
       "2  kaggle/train/F0005/MID1  kaggle/train/F0005/MID2\n",
       "3  kaggle/train/F0005/MID3  kaggle/train/F0005/MID2\n",
       "4  kaggle/train/F0009/MID1  kaggle/train/F0009/MID4"
      ]
     },
     "execution_count": 5,
     "metadata": {},
     "output_type": "execute_result"
    }
   ],
   "source": [
    "kin_df = pd.read_csv('kaggle/train_relationships.csv')\n",
    "kin_df.p1 = kin_df.p1.apply( lambda x: 'kaggle/train/'+x )\n",
    "kin_df.p2 = kin_df.p2.apply( lambda x: 'kaggle/train/'+x )\n",
    "print(kin_df.shape)\n",
    "kin_df.head()"
   ]
  },
  {
   "cell_type": "code",
   "execution_count": 6,
   "metadata": {},
   "outputs": [
    {
     "data": {
      "text/plain": [
       "3362"
      ]
     },
     "execution_count": 6,
     "metadata": {},
     "output_type": "execute_result"
    }
   ],
   "source": [
    "kin_df = kin_df[((kin_df.p1.isin(ppl)) & (kin_df.p2.isin(ppl)))]\n",
    "len(kin_df)"
   ]
  },
  {
   "cell_type": "markdown",
   "metadata": {},
   "source": [
    "- Divide the 1000 family into 10 groups each contains 100 families, then calculate the number of occurence of each group in the kin_df dataframe.\n",
    "\n",
    "- We Found that the groups with max. occurence are F07, F06, F01 respectively."
   ]
  },
  {
   "cell_type": "code",
   "execution_count": 7,
   "metadata": {},
   "outputs": [
    {
     "name": "stdout",
     "output_type": "stream",
     "text": [
      "{'F00': 520, 'F01': 782, 'F02': 662, 'F03': 604, 'F04': 590, 'F05': 602, 'F06': 786, 'F07': 794, 'F08': 748, 'F09': 592}\n"
     ]
    }
   ],
   "source": [
    "fam = ['F00', 'F01', 'F02', 'F03', 'F04', 'F05', 'F06', 'F07', 'F08', 'F09']\n",
    "f = {}\n",
    "for family in fam:\n",
    "    f[family] = kin_df.p1.str.count(family).sum() + kin_df.p2.str.count(family).sum()\n",
    "    \n",
    "print(f)"
   ]
  },
  {
   "cell_type": "markdown",
   "metadata": {},
   "source": [
    "- In order to have better results we divide the training into training and validation with 80/20 percentage and to achieve this we exclude the F06 and F09 family groups because they having an accumelative occurence of 689 which is almost 20% of the total number of records(3362)."
   ]
  },
  {
   "cell_type": "code",
   "execution_count": 8,
   "metadata": {},
   "outputs": [
    {
     "data": {
      "text/plain": [
       "(2673, 689, 3362)"
      ]
     },
     "execution_count": 8,
     "metadata": {},
     "output_type": "execute_result"
    }
   ],
   "source": [
    "# 689/3362 = 0.2049\n",
    "z = ['F06' ,'F09']\n",
    "kdata = [ (x[0], x[1]) for x in kin_df.values ]\n",
    "val = []\n",
    "\n",
    "for f in z:\n",
    "    temp2 = [x for x in kdata if (f in x[0] or f in x[1])]\n",
    "    val.extend(temp2)\n",
    "\n",
    "train = [i for i in kdata if i not in val] \n",
    "len(train), len(val), len(kin_df)"
   ]
  },
  {
   "cell_type": "code",
   "execution_count": 9,
   "metadata": {},
   "outputs": [],
   "source": [
    "data = [ ( x[0], x[1]  ) for x in kin_df.values ]"
   ]
  },
  {
   "cell_type": "markdown",
   "metadata": {},
   "source": [
    "- Defining some useful functions."
   ]
  },
  {
   "cell_type": "code",
   "execution_count": 10,
   "metadata": {},
   "outputs": [],
   "source": [
    "def read_img(path):\n",
    "    img = cv2.imread(path)\n",
    "    img = np.array(img).astype(np.float)\n",
    "    return preprocess_input(img,version=2)\n",
    "\n",
    "def getImages(p1,p2):\n",
    "    p1 = read_img(choice(allPhotos[p1]))\n",
    "    p2 = read_img(choice(allPhotos[p2]))\n",
    "    return p1,p2\n",
    "\n",
    "def getMiniBatch(batch_size=16, data=train):\n",
    "    p1 = []; p2 = []; Y = []\n",
    "    batch = sample(data, batch_size//2)\n",
    "    for x in batch:\n",
    "        _p1, _p2 = getImages(*x)\n",
    "        p1.append(_p1);p2.append(_p2);Y.append(1)\n",
    "    while len(Y) < batch_size:\n",
    "        _p1,_p2 = tuple(np.random.choice(ppl,size=2, replace=False))\n",
    "        if (_p1,_p2) not in train+val and (_p2,_p1) not in train+val:\n",
    "            _p1,_p2 = getImages(_p1,_p2)\n",
    "            p1.append(_p1);p2.append(_p2);Y.append(0) \n",
    "    return [np.array(p1),np.array(p2)], np.array(Y)"
   ]
  },
  {
   "cell_type": "code",
   "execution_count": 11,
   "metadata": {},
   "outputs": [],
   "source": [
    "def initialize_bias(shape, name=None):\n",
    "    \"\"\"\n",
    "        The paper, http://www.cs.utoronto.ca/~gkoch/files/msc-thesis.pdf\n",
    "        suggests to initialize CNN layer bias with mean as 0.5 and standard deviation of 0.01\n",
    "    \"\"\"\n",
    "    return np.random.normal(loc = 0.5, scale = 1e-2, size = shape)\n",
    "  \n",
    "def initialize_weights(shape, name=None):\n",
    "    \"\"\"\n",
    "        The paper, http://www.cs.utoronto.ca/~gkoch/files/msc-thesis.pdf\n",
    "        suggests to initialize CNN layer weights with mean as 0.0 and standard deviation of 0.01\n",
    "    \"\"\"\n",
    "    return np.random.normal(loc = 0.0, scale = 1e-2, size = shape)"
   ]
  },
  {
   "cell_type": "markdown",
   "metadata": {},
   "source": [
    "## The Benchmark Model"
   ]
  },
  {
   "cell_type": "markdown",
   "metadata": {},
   "source": [
    "- For the benchmark model a vgg-face network with vgg16 will be trained and tested, So firstly the model is loaded."
   ]
  },
  {
   "cell_type": "code",
   "execution_count": 12,
   "metadata": {},
   "outputs": [
    {
     "name": "stdout",
     "output_type": "stream",
     "text": [
      "Downloading data from https://github.com/rcmalli/keras-vggface/releases/download/v2.0/rcmalli_vggface_tf_notop_vgg16.h5\n",
      "58916864/58909280 [==============================] - 1s 0us/step\n"
     ]
    }
   ],
   "source": [
    "from keras_vggface.vggface import VGGFace\n",
    "\n",
    "IMG_DIM = (224,224,3)\n",
    "\n",
    "vggface = VGGFace(model='vgg16', include_top=False)\n",
    "\n",
    "for layer in vggface.layers[:-3]:\n",
    "    layer.trainable=True"
   ]
  },
  {
   "cell_type": "markdown",
   "metadata": {},
   "source": [
    "- Feed the pair to the model and calculating the triplet loss function between them."
   ]
  },
  {
   "cell_type": "code",
   "execution_count": 13,
   "metadata": {},
   "outputs": [],
   "source": [
    "from keras.layers import Input, Dense, Flatten, Subtract, Dropout, Multiply\n",
    "from keras.layers import Lambda, Concatenate, GlobalMaxPool2D, GlobalAvgPool2D\n",
    "from keras.models import Model \n",
    "from keras.regularizers import l2\n",
    "from keras import backend as K\n",
    "from keras.optimizers import SGD,Adam\n",
    "from keras.losses import binary_crossentropy\n",
    "import tensorflow as tf\n",
    "from sklearn.metrics import roc_auc_score\n",
    "\n",
    "def auc(y_true, y_pred):\n",
    "    return tf.py_func(roc_auc_score, (y_true, y_pred), tf.double)\n",
    "\n",
    "left_input = Input(IMG_DIM)\n",
    "right_input = Input(IMG_DIM)\n",
    "\n",
    "x1 = vggface(left_input)\n",
    "x2 = vggface(right_input)\n",
    "\n",
    "x1 = Concatenate(axis=-1)([GlobalMaxPool2D()(x1), GlobalAvgPool2D()(x1)])\n",
    "x2 = Concatenate(axis=-1)([GlobalMaxPool2D()(x2), GlobalAvgPool2D()(x2)])\n",
    "\n",
    "fc = Dense(100,activation='relu',kernel_regularizer=l2(1e-3),\n",
    "                   kernel_initializer=initialize_weights,bias_initializer=initialize_bias)\n",
    "x1 = fc(x1)\n",
    "x2 = fc(x2)\n",
    "\n",
    "# |h1-h2|\n",
    "x3 = Lambda(lambda tensors : K.abs(tensors[0] - tensors[1]))([x1, x2])\n",
    "\n",
    "# |h1-h2|^2\n",
    "x4 = Lambda(lambda tensor  : K.square(tensor))(x3)\n",
    "\n",
    "# h1*h2\n",
    "x5 = Multiply()([x1, x2])\n",
    "\n",
    "# |h1-h2|^2 + h1*h2\n",
    "x = Concatenate(axis=-1)([x4,x5])\n",
    "\n",
    "x = Dense(100,activation='relu',kernel_regularizer=l2(1e-3),\n",
    "                   kernel_initializer=initialize_weights,bias_initializer=initialize_bias)(x)\n",
    "x = Dropout(0.2)(x)\n",
    "\n",
    "\n",
    "prediction = Dense(1,activation='sigmoid',bias_initializer=initialize_bias)(x)\n",
    "\n",
    "siamese_net = Model(inputs=[left_input,right_input],outputs=prediction)\n",
    "\n",
    "optimizer = Adam(1e-5)\n",
    "\n",
    "\"https://towardsdatascience.com/lossless-triplet-loss-7e932f990b24\"\n",
    "\n",
    "siamese_net.compile(loss=\"binary_crossentropy\",optimizer=optimizer,metrics=['accuracy',auc])"
   ]
  },
  {
   "cell_type": "markdown",
   "metadata": {},
   "source": [
    "- Training the model and save the best checkpoint in 'VGG16_best_checkpoint.h5' file."
   ]
  },
  {
   "cell_type": "code",
   "execution_count": 14,
   "metadata": {},
   "outputs": [
    {
     "name": "stdout",
     "output_type": "stream",
     "text": [
      "Epoch 1/100\n",
      "199/200 [============================>.] - ETA: 2s - loss: 1.0794 - acc: 0.5126 - auc: 0.5232Epoch 00001: val_auc improved from -inf to 0.52891, saving model to VGG16_best_checkpoint.h5\n",
      "200/200 [==============================] - 497s 2s/step - loss: 1.0772 - acc: 0.5125 - auc: 0.5239 - val_loss: 0.7128 - val_acc: 0.5312 - val_auc: 0.5289\n",
      "Epoch 2/100\n",
      "199/200 [============================>.] - ETA: 2s - loss: 0.7197 - acc: 0.5251 - auc: 0.5313Epoch 00002: val_auc did not improve\n",
      "200/200 [==============================] - 486s 2s/step - loss: 0.7194 - acc: 0.5259 - auc: 0.5320 - val_loss: 0.7089 - val_acc: 0.4975 - val_auc: 0.5111\n",
      "Epoch 3/100\n",
      "199/200 [============================>.] - ETA: 2s - loss: 0.7032 - acc: 0.5437 - auc: 0.5687Epoch 00003: val_auc did not improve\n",
      "200/200 [==============================] - 486s 2s/step - loss: 0.7033 - acc: 0.5431 - auc: 0.5684 - val_loss: 0.7150 - val_acc: 0.4875 - val_auc: 0.4813\n",
      "Epoch 4/100\n",
      "199/200 [============================>.] - ETA: 2s - loss: 0.7080 - acc: 0.5531 - auc: 0.5657Epoch 00004: val_auc did not improve\n",
      "200/200 [==============================] - 486s 2s/step - loss: 0.7074 - acc: 0.5541 - auc: 0.5668 - val_loss: 0.7180 - val_acc: 0.4881 - val_auc: 0.4911\n",
      "Epoch 5/100\n",
      "199/200 [============================>.] - ETA: 2s - loss: 0.6970 - acc: 0.5534 - auc: 0.5802Epoch 00005: val_auc improved from 0.52891 to 0.55500, saving model to VGG16_best_checkpoint.h5\n",
      "200/200 [==============================] - 485s 2s/step - loss: 0.6969 - acc: 0.5534 - auc: 0.5808 - val_loss: 0.7070 - val_acc: 0.5331 - val_auc: 0.5550\n",
      "Epoch 6/100\n",
      "199/200 [============================>.] - ETA: 2s - loss: 0.6881 - acc: 0.5813 - auc: 0.6109Epoch 00006: val_auc did not improve\n",
      "200/200 [==============================] - 486s 2s/step - loss: 0.6882 - acc: 0.5800 - auc: 0.6103 - val_loss: 0.7179 - val_acc: 0.5138 - val_auc: 0.5211\n",
      "Epoch 7/100\n",
      "199/200 [============================>.] - ETA: 2s - loss: 0.6769 - acc: 0.5999 - auc: 0.6351Epoch 00007: val_auc improved from 0.55500 to 0.55734, saving model to VGG16_best_checkpoint.h5\n",
      "200/200 [==============================] - 486s 2s/step - loss: 0.6763 - acc: 0.6009 - auc: 0.6361 - val_loss: 0.7189 - val_acc: 0.5319 - val_auc: 0.5573\n",
      "Epoch 8/100\n",
      "199/200 [============================>.] - ETA: 2s - loss: 0.6688 - acc: 0.6030 - auc: 0.6557Epoch 00008: val_auc did not improve\n",
      "200/200 [==============================] - 486s 2s/step - loss: 0.6693 - acc: 0.6028 - auc: 0.6550 - val_loss: 0.7267 - val_acc: 0.5363 - val_auc: 0.5558\n",
      "Epoch 9/100\n",
      "199/200 [============================>.] - ETA: 2s - loss: 0.6520 - acc: 0.6363 - auc: 0.6851Epoch 00009: val_auc improved from 0.55734 to 0.58766, saving model to VGG16_best_checkpoint.h5\n",
      "200/200 [==============================] - 486s 2s/step - loss: 0.6516 - acc: 0.6366 - auc: 0.6855 - val_loss: 0.7046 - val_acc: 0.5469 - val_auc: 0.5877\n",
      "Epoch 10/100\n",
      "199/200 [============================>.] - ETA: 2s - loss: 0.6278 - acc: 0.6668 - auc: 0.7241Epoch 00010: val_auc improved from 0.58766 to 0.61234, saving model to VGG16_best_checkpoint.h5\n",
      "200/200 [==============================] - 486s 2s/step - loss: 0.6276 - acc: 0.6666 - auc: 0.7241 - val_loss: 0.7060 - val_acc: 0.5731 - val_auc: 0.6123\n",
      "Epoch 11/100\n",
      "199/200 [============================>.] - ETA: 2s - loss: 0.6121 - acc: 0.6731 - auc: 0.7414Epoch 00011: val_auc improved from 0.61234 to 0.63609, saving model to VGG16_best_checkpoint.h5\n",
      "200/200 [==============================] - 486s 2s/step - loss: 0.6118 - acc: 0.6728 - auc: 0.7419 - val_loss: 0.7244 - val_acc: 0.5887 - val_auc: 0.6361\n",
      "Epoch 12/100\n",
      "199/200 [============================>.] - ETA: 2s - loss: 0.5871 - acc: 0.6966 - auc: 0.7680Epoch 00012: val_auc did not improve\n",
      "200/200 [==============================] - 486s 2s/step - loss: 0.5875 - acc: 0.6969 - auc: 0.7673 - val_loss: 0.7219 - val_acc: 0.5775 - val_auc: 0.6200\n",
      "Epoch 13/100\n",
      "199/200 [============================>.] - ETA: 2s - loss: 0.5821 - acc: 0.7026 - auc: 0.7750Epoch 00013: val_auc did not improve\n",
      "200/200 [==============================] - 485s 2s/step - loss: 0.5814 - acc: 0.7031 - auc: 0.7758 - val_loss: 0.7653 - val_acc: 0.5725 - val_auc: 0.6080\n",
      "Epoch 14/100\n",
      "199/200 [============================>.] - ETA: 2s - loss: 0.5549 - acc: 0.7139 - auc: 0.7941Epoch 00014: val_auc improved from 0.63609 to 0.63641, saving model to VGG16_best_checkpoint.h5\n",
      "200/200 [==============================] - 486s 2s/step - loss: 0.5541 - acc: 0.7141 - auc: 0.7949 - val_loss: 0.7526 - val_acc: 0.5819 - val_auc: 0.6364\n",
      "Epoch 15/100\n",
      "199/200 [============================>.] - ETA: 2s - loss: 0.5561 - acc: 0.7142 - auc: 0.7952Epoch 00015: val_auc did not improve\n",
      "200/200 [==============================] - 486s 2s/step - loss: 0.5560 - acc: 0.7147 - auc: 0.7952 - val_loss: 0.7554 - val_acc: 0.5750 - val_auc: 0.6161\n",
      "Epoch 16/100\n",
      "199/200 [============================>.] - ETA: 2s - loss: 0.5297 - acc: 0.7368 - auc: 0.8176Epoch 00016: val_auc improved from 0.63641 to 0.66719, saving model to VGG16_best_checkpoint.h5\n",
      "200/200 [==============================] - 486s 2s/step - loss: 0.5298 - acc: 0.7366 - auc: 0.8176 - val_loss: 0.7330 - val_acc: 0.6075 - val_auc: 0.6672\n",
      "Epoch 17/100\n",
      "199/200 [============================>.] - ETA: 2s - loss: 0.5405 - acc: 0.7296 - auc: 0.8130Epoch 00017: val_auc did not improve\n",
      "200/200 [==============================] - 485s 2s/step - loss: 0.5395 - acc: 0.7306 - auc: 0.8139 - val_loss: 0.8148 - val_acc: 0.5863 - val_auc: 0.6350\n",
      "Epoch 18/100\n",
      "199/200 [============================>.] - ETA: 2s - loss: 0.5120 - acc: 0.7491 - auc: 0.8332Epoch 00018: val_auc did not improve\n",
      "200/200 [==============================] - 484s 2s/step - loss: 0.5126 - acc: 0.7481 - auc: 0.8327 - val_loss: 0.8071 - val_acc: 0.5894 - val_auc: 0.6428\n",
      "Epoch 19/100\n",
      "199/200 [============================>.] - ETA: 2s - loss: 0.5074 - acc: 0.7541 - auc: 0.8391Epoch 00019: val_auc did not improve\n",
      "200/200 [==============================] - 486s 2s/step - loss: 0.5076 - acc: 0.7544 - auc: 0.8389 - val_loss: 0.8022 - val_acc: 0.5975 - val_auc: 0.6481\n",
      "Epoch 20/100\n",
      "199/200 [============================>.] - ETA: 2s - loss: 0.4981 - acc: 0.7579 - auc: 0.8443Epoch 00020: val_auc did not improve\n",
      "200/200 [==============================] - 487s 2s/step - loss: 0.4977 - acc: 0.7578 - auc: 0.8445 - val_loss: 0.8337 - val_acc: 0.5687 - val_auc: 0.6258\n",
      "Epoch 21/100\n",
      "199/200 [============================>.] - ETA: 2s - loss: 0.4989 - acc: 0.7601 - auc: 0.8440Epoch 00021: val_auc did not improve\n",
      "200/200 [==============================] - 488s 2s/step - loss: 0.5003 - acc: 0.7591 - auc: 0.8428 - val_loss: 0.8595 - val_acc: 0.5837 - val_auc: 0.6288\n",
      "Epoch 22/100\n",
      "199/200 [============================>.] - ETA: 2s - loss: 0.4815 - acc: 0.7701 - auc: 0.8536Epoch 00022: val_auc did not improve\n",
      "200/200 [==============================] - 487s 2s/step - loss: 0.4810 - acc: 0.7709 - auc: 0.8541 - val_loss: 0.8284 - val_acc: 0.5731 - val_auc: 0.6406\n",
      "Epoch 23/100\n",
      "199/200 [============================>.] - ETA: 2s - loss: 0.4715 - acc: 0.7701 - auc: 0.8572\n",
      "Epoch 00023: reducing learning rate to 9.999999747378752e-07.\n",
      "Epoch 00023: val_auc did not improve\n",
      "200/200 [==============================] - 486s 2s/step - loss: 0.4708 - acc: 0.7700 - auc: 0.8576 - val_loss: 0.9306 - val_acc: 0.5450 - val_auc: 0.6139\n",
      "Epoch 24/100\n",
      "199/200 [============================>.] - ETA: 2s - loss: 0.4341 - acc: 0.8006 - auc: 0.8903Epoch 00024: val_auc did not improve\n",
      "200/200 [==============================] - 488s 2s/step - loss: 0.4336 - acc: 0.8013 - auc: 0.8907 - val_loss: 0.9313 - val_acc: 0.5681 - val_auc: 0.6289\n",
      "Epoch 25/100\n",
      "199/200 [============================>.] - ETA: 2s - loss: 0.4401 - acc: 0.7959 - auc: 0.8829Epoch 00025: val_auc did not improve\n",
      "200/200 [==============================] - 489s 2s/step - loss: 0.4397 - acc: 0.7962 - auc: 0.8833 - val_loss: 0.9559 - val_acc: 0.5550 - val_auc: 0.6062\n",
      "Epoch 26/100\n",
      "199/200 [============================>.] - ETA: 2s - loss: 0.4289 - acc: 0.8068 - auc: 0.8940Epoch 00026: val_auc did not improve\n",
      "200/200 [==============================] - 489s 2s/step - loss: 0.4284 - acc: 0.8075 - auc: 0.8943 - val_loss: 0.9998 - val_acc: 0.5494 - val_auc: 0.6272\n"
     ]
    },
    {
     "name": "stdout",
     "output_type": "stream",
     "text": [
      "Epoch 27/100\n",
      "199/200 [============================>.] - ETA: 2s - loss: 0.4224 - acc: 0.8053 - auc: 0.8937Epoch 00027: val_auc did not improve\n",
      "200/200 [==============================] - 488s 2s/step - loss: 0.4219 - acc: 0.8059 - auc: 0.8940 - val_loss: 0.9708 - val_acc: 0.5450 - val_auc: 0.6203\n",
      "Epoch 28/100\n",
      "199/200 [============================>.] - ETA: 2s - loss: 0.4293 - acc: 0.8028 - auc: 0.8874Epoch 00028: val_auc did not improve\n",
      "200/200 [==============================] - 489s 2s/step - loss: 0.4288 - acc: 0.8031 - auc: 0.8877 - val_loss: 1.0087 - val_acc: 0.5487 - val_auc: 0.6116\n",
      "Epoch 29/100\n",
      "199/200 [============================>.] - ETA: 2s - loss: 0.4321 - acc: 0.8053 - auc: 0.8878\n",
      "Epoch 00029: reducing learning rate to 9.999999974752428e-08.\n",
      "Epoch 00029: val_auc did not improve\n",
      "200/200 [==============================] - 489s 2s/step - loss: 0.4324 - acc: 0.8050 - auc: 0.8873 - val_loss: 1.0228 - val_acc: 0.5400 - val_auc: 0.6041\n",
      "Epoch 30/100\n",
      "199/200 [============================>.] - ETA: 2s - loss: 0.4161 - acc: 0.8153 - auc: 0.8996Epoch 00030: val_auc did not improve\n",
      "200/200 [==============================] - 490s 2s/step - loss: 0.4160 - acc: 0.8153 - auc: 0.8995 - val_loss: 0.9472 - val_acc: 0.5850 - val_auc: 0.6459\n",
      "Epoch 31/100\n",
      "199/200 [============================>.] - ETA: 2s - loss: 0.4255 - acc: 0.8131 - auc: 0.8897Epoch 00031: val_auc did not improve\n",
      "200/200 [==============================] - 489s 2s/step - loss: 0.4279 - acc: 0.8131 - auc: 0.8893 - val_loss: 0.9885 - val_acc: 0.5669 - val_auc: 0.6344\n"
     ]
    }
   ],
   "source": [
    "from keras.callbacks import ReduceLROnPlateau, ModelCheckpoint, EarlyStopping\n",
    "\n",
    "reducelr = ReduceLROnPlateau(monitor='val_auc', mode='max',patience=6,factor=0.1,verbose=1)\n",
    "\n",
    "model_checkpoint  = ModelCheckpoint('VGG16_best_checkpoint.h5', save_best_only=True,\n",
    "                                    save_weights_only=True, monitor='val_auc', mode='max', verbose=1)\n",
    "\n",
    "early_stopping = EarlyStopping(monitor='val_auc', patience=15, mode='max')\n",
    "\n",
    "callbacks_list = [reducelr, model_checkpoint, early_stopping]\n",
    "\n",
    "def Generator(batch_size, data ):\n",
    "    while True:\n",
    "        yield getMiniBatch(batch_size=batch_size, data=data)\n",
    "\n",
    "train_gen = Generator(batch_size=16,data=train)\n",
    "val_gen = Generator(batch_size=16,data=val)\n",
    "\n",
    "history = siamese_net.fit_generator( train_gen, samples_per_epoch=200, epochs=100, \n",
    "                          validation_data=val_gen, validation_steps=100, use_multiprocessing=True,\n",
    "                          verbose=1,callbacks=callbacks_list, workers=4)"
   ]
  },
  {
   "cell_type": "markdown",
   "metadata": {},
   "source": [
    "- Results Visualization."
   ]
  },
  {
   "cell_type": "code",
   "execution_count": 15,
   "metadata": {},
   "outputs": [
    {
     "data": {
      "image/png": "[encoded data removed]",
      "text/plain": [
       "<matplotlib.figure.Figure at 0x7f2788a292e8>"
      ]
     },
     "metadata": {
      "needs_background": "light"
     },
     "output_type": "display_data"
    }
   ],
   "source": [
    "f, (ax1, ax2, ax3) = plt.subplots(1, 3, figsize=(16, 4))\n",
    "t = f.suptitle('Siamese Net Performance', fontsize=12)\n",
    "f.subplots_adjust(top=0.85, wspace=0.3)\n",
    "epoch_list = history.epoch\n",
    "\n",
    "ax1.plot(epoch_list, history.history['acc'], label='Train Accuracy')\n",
    "ax1.plot(epoch_list, history.history['val_acc'], label='Validation Accuracy')\n",
    "ax1.set_xticks(np.arange(0, epoch_list[-1], 5))\n",
    "ax1.set_ylabel('Accuracy Value');ax1.set_xlabel('Epoch');ax1.set_title('Accuracy')\n",
    "ax1.legend(loc=\"best\");ax1.grid(color='gray', linestyle='-', linewidth=0.5)\n",
    "\n",
    "ax2.plot(epoch_list, history.history['loss'], label='Train Loss')\n",
    "ax2.plot(epoch_list, history.history['val_loss'], label='Validation Loss')\n",
    "ax2.set_xticks(np.arange(0, epoch_list[-1], 5))\n",
    "ax2.set_ylabel('Loss Value');ax2.set_xlabel('Epoch');ax2.set_title('Loss')\n",
    "ax2.legend(loc=\"best\");ax2.grid(color='gray', linestyle='-', linewidth=0.5)\n",
    "\n",
    "ax3.plot(epoch_list, history.history['auc'], label='Train AUC')\n",
    "ax3.plot(epoch_list, history.history['val_auc'], label='Validation AUC')\n",
    "ax3.set_xticks(np.arange(0, epoch_list[-1], 5))\n",
    "ax3.set_ylabel('AUC');ax3.set_xlabel('Epoch');ax3.set_title('AUC')\n",
    "ax3.legend(loc=\"best\");ax3.grid(color='gray', linestyle='-', linewidth=0.5)"
   ]
  },
  {
   "cell_type": "code",
   "execution_count": 16,
   "metadata": {},
   "outputs": [],
   "source": [
    "siamese_net.load_weights('VGG16_best_checkpoint.h5')"
   ]
  },
  {
   "cell_type": "markdown",
   "metadata": {},
   "source": [
    "- After loading the best checkpoint of the model we will run it on the test data by loading the sample_submission file to make the predictions and save the predictions in a 'VGG16_submission.csv' to submit it in the kaggle competition to test it."
   ]
  },
  {
   "cell_type": "code",
   "execution_count": 17,
   "metadata": {},
   "outputs": [
    {
     "name": "stdout",
     "output_type": "stream",
     "text": [
      "(5310, 4)\n"
     ]
    },
    {
     "data": {
      "text/html": [
       "<div>\n",
       "<style scoped>\n",
       "    .dataframe tbody tr th:only-of-type {\n",
       "        vertical-align: middle;\n",
       "    }\n",
       "\n",
       "    .dataframe tbody tr th {\n",
       "        vertical-align: top;\n",
       "    }\n",
       "\n",
       "    .dataframe thead th {\n",
       "        text-align: right;\n",
       "    }\n",
       "</style>\n",
       "<table border=\"1\" class=\"dataframe\">\n",
       "  <thead>\n",
       "    <tr style=\"text-align: right;\">\n",
       "      <th></th>\n",
       "      <th>img_pair</th>\n",
       "      <th>is_related</th>\n",
       "      <th>p1</th>\n",
       "      <th>p2</th>\n",
       "    </tr>\n",
       "  </thead>\n",
       "  <tbody>\n",
       "    <tr>\n",
       "      <th>0</th>\n",
       "      <td>face05508.jpg-face01210.jpg</td>\n",
       "      <td>0</td>\n",
       "      <td>kaggle/test/face05508.jpg</td>\n",
       "      <td>kaggle/test/face01210.jpg</td>\n",
       "    </tr>\n",
       "    <tr>\n",
       "      <th>1</th>\n",
       "      <td>face05750.jpg-face00898.jpg</td>\n",
       "      <td>0</td>\n",
       "      <td>kaggle/test/face05750.jpg</td>\n",
       "      <td>kaggle/test/face00898.jpg</td>\n",
       "    </tr>\n",
       "    <tr>\n",
       "      <th>2</th>\n",
       "      <td>face05820.jpg-face03938.jpg</td>\n",
       "      <td>0</td>\n",
       "      <td>kaggle/test/face05820.jpg</td>\n",
       "      <td>kaggle/test/face03938.jpg</td>\n",
       "    </tr>\n",
       "    <tr>\n",
       "      <th>3</th>\n",
       "      <td>face02104.jpg-face01172.jpg</td>\n",
       "      <td>0</td>\n",
       "      <td>kaggle/test/face02104.jpg</td>\n",
       "      <td>kaggle/test/face01172.jpg</td>\n",
       "    </tr>\n",
       "    <tr>\n",
       "      <th>4</th>\n",
       "      <td>face02428.jpg-face05611.jpg</td>\n",
       "      <td>0</td>\n",
       "      <td>kaggle/test/face02428.jpg</td>\n",
       "      <td>kaggle/test/face05611.jpg</td>\n",
       "    </tr>\n",
       "  </tbody>\n",
       "</table>\n",
       "</div>"
      ],
      "text/plain": [
       "                      img_pair  is_related                         p1  \\\n",
       "0  face05508.jpg-face01210.jpg           0  kaggle/test/face05508.jpg   \n",
       "1  face05750.jpg-face00898.jpg           0  kaggle/test/face05750.jpg   \n",
       "2  face05820.jpg-face03938.jpg           0  kaggle/test/face05820.jpg   \n",
       "3  face02104.jpg-face01172.jpg           0  kaggle/test/face02104.jpg   \n",
       "4  face02428.jpg-face05611.jpg           0  kaggle/test/face02428.jpg   \n",
       "\n",
       "                          p2  \n",
       "0  kaggle/test/face01210.jpg  \n",
       "1  kaggle/test/face00898.jpg  \n",
       "2  kaggle/test/face03938.jpg  \n",
       "3  kaggle/test/face01172.jpg  \n",
       "4  kaggle/test/face05611.jpg  "
      ]
     },
     "execution_count": 17,
     "metadata": {},
     "output_type": "execute_result"
    }
   ],
   "source": [
    "submission = pd.read_csv('kaggle/sample_submission.csv')\n",
    "submission['p1'] = submission.img_pair.apply( lambda x: 'kaggle/test/'+x.split('-')[0] )\n",
    "submission['p2'] = submission.img_pair.apply( lambda x: 'kaggle/test/'+x.split('-')[1] )\n",
    "print(submission.shape)\n",
    "submission.head()"
   ]
  },
  {
   "cell_type": "code",
   "execution_count": 18,
   "metadata": {},
   "outputs": [
    {
     "name": "stderr",
     "output_type": "stream",
     "text": [
      "100%|██████████| 11/11 [03:49<00:00, 19.54s/it]\n"
     ]
    }
   ],
   "source": [
    "from tqdm import tqdm\n",
    "probs = []\n",
    "for i,j in tqdm([ (0,500),(500,1000),(1000,1500),(1500,2000),(2000,2500),\n",
    "                 (2500,3000),(3000,3500),(3500,4000),(4000,4500),(4500,5000),(5000,5310) ]):\n",
    "    imgs1 = np.array( [ read_img(photo) for photo in submission.p1.values[i:j] ] )\n",
    "    imgs2 = np.array( [ read_img(photo) for photo in submission.p2.values[i:j] ] )\n",
    "    prob =  siamese_net.predict( [ imgs1, imgs2 ] )\n",
    "    probs.append(np.squeeze(prob))\n",
    "    del imgs1,imgs2; gc.collect()"
   ]
  },
  {
   "cell_type": "code",
   "execution_count": 19,
   "metadata": {},
   "outputs": [
    {
     "data": {
      "text/html": [
       "<div>\n",
       "<style scoped>\n",
       "    .dataframe tbody tr th:only-of-type {\n",
       "        vertical-align: middle;\n",
       "    }\n",
       "\n",
       "    .dataframe tbody tr th {\n",
       "        vertical-align: top;\n",
       "    }\n",
       "\n",
       "    .dataframe thead th {\n",
       "        text-align: right;\n",
       "    }\n",
       "</style>\n",
       "<table border=\"1\" class=\"dataframe\">\n",
       "  <thead>\n",
       "    <tr style=\"text-align: right;\">\n",
       "      <th></th>\n",
       "      <th>img_pair</th>\n",
       "      <th>is_related</th>\n",
       "    </tr>\n",
       "  </thead>\n",
       "  <tbody>\n",
       "    <tr>\n",
       "      <th>0</th>\n",
       "      <td>face05508.jpg-face01210.jpg</td>\n",
       "      <td>0.559180</td>\n",
       "    </tr>\n",
       "    <tr>\n",
       "      <th>1</th>\n",
       "      <td>face05750.jpg-face00898.jpg</td>\n",
       "      <td>0.679362</td>\n",
       "    </tr>\n",
       "    <tr>\n",
       "      <th>2</th>\n",
       "      <td>face05820.jpg-face03938.jpg</td>\n",
       "      <td>0.668545</td>\n",
       "    </tr>\n",
       "    <tr>\n",
       "      <th>3</th>\n",
       "      <td>face02104.jpg-face01172.jpg</td>\n",
       "      <td>0.822499</td>\n",
       "    </tr>\n",
       "    <tr>\n",
       "      <th>4</th>\n",
       "      <td>face02428.jpg-face05611.jpg</td>\n",
       "      <td>0.584599</td>\n",
       "    </tr>\n",
       "  </tbody>\n",
       "</table>\n",
       "</div>"
      ],
      "text/plain": [
       "                      img_pair  is_related\n",
       "0  face05508.jpg-face01210.jpg    0.559180\n",
       "1  face05750.jpg-face00898.jpg    0.679362\n",
       "2  face05820.jpg-face03938.jpg    0.668545\n",
       "3  face02104.jpg-face01172.jpg    0.822499\n",
       "4  face02428.jpg-face05611.jpg    0.584599"
      ]
     },
     "execution_count": 19,
     "metadata": {},
     "output_type": "execute_result"
    }
   ],
   "source": [
    "submission.is_related = np.concatenate(probs)\n",
    "submission.drop( ['p1','p2'],axis=1,inplace=True )\n",
    "submission.head()"
   ]
  },
  {
   "cell_type": "code",
   "execution_count": 20,
   "metadata": {},
   "outputs": [],
   "source": [
    "submission.to_csv('VGG16_submission.csv',index=False)"
   ]
  },
  {
   "cell_type": "markdown",
   "metadata": {},
   "source": [
    "## ResNet50 Model\n",
    "\n",
    "Applying almost the same above steps to train, validate and test a ResNet50 network. "
   ]
  },
  {
   "cell_type": "code",
   "execution_count": 21,
   "metadata": {},
   "outputs": [
    {
     "name": "stdout",
     "output_type": "stream",
     "text": [
      "Downloading data from https://github.com/rcmalli/keras-vggface/releases/download/v2.0/rcmalli_vggface_tf_notop_resnet50.h5\n",
      "94699520/94694792 [==============================] - 1s 0us/step\n"
     ]
    }
   ],
   "source": [
    "vggface = VGGFace(model='resnet50', include_top=False)\n",
    "\n",
    "for layer in vggface.layers[:-3]:\n",
    "    layer.trainable=True"
   ]
  },
  {
   "cell_type": "code",
   "execution_count": 22,
   "metadata": {},
   "outputs": [],
   "source": [
    "left_input = Input(IMG_DIM)\n",
    "right_input = Input(IMG_DIM)\n",
    "\n",
    "x1 = vggface(left_input)\n",
    "x2 = vggface(right_input)\n",
    "\n",
    "x1 = Concatenate(axis=-1)([GlobalMaxPool2D()(x1), GlobalAvgPool2D()(x1)])\n",
    "x2 = Concatenate(axis=-1)([GlobalMaxPool2D()(x2), GlobalAvgPool2D()(x2)])\n",
    "\n",
    "fc = Dense(100,activation='relu',kernel_regularizer=l2(1e-3),\n",
    "                   kernel_initializer=initialize_weights,bias_initializer=initialize_bias)\n",
    "x1 = fc(x1)\n",
    "x2 = fc(x2)\n",
    "\n",
    "# |h1-h2|\n",
    "x3 = Lambda(lambda tensors : K.abs(tensors[0] - tensors[1]))([x1, x2])\n",
    "\n",
    "# |h1-h2|^2\n",
    "x4 = Lambda(lambda tensor  : K.square(tensor))(x3)\n",
    "\n",
    "# h1*h2\n",
    "x5 = Multiply()([x1, x2])\n",
    "\n",
    "# |h1-h2|^2 + h1*h2\n",
    "x = Concatenate(axis=-1)([x4,x5])\n",
    "\n",
    "x = Dense(100,activation='relu',kernel_regularizer=l2(1e-3),\n",
    "                   kernel_initializer=initialize_weights,bias_initializer=initialize_bias)(x)\n",
    "x = Dropout(0.2)(x)\n",
    "\n",
    "\n",
    "prediction = Dense(1,activation='sigmoid',bias_initializer=initialize_bias)(x)\n",
    "\n",
    "siamese_net = Model(inputs=[left_input,right_input],outputs=prediction)\n",
    "\n",
    "optimizer = Adam(1e-5)\n",
    "\n",
    "siamese_net.compile(loss=\"binary_crossentropy\",optimizer=optimizer,metrics=['accuracy',auc])"
   ]
  },
  {
   "cell_type": "code",
   "execution_count": 23,
   "metadata": {},
   "outputs": [
    {
     "name": "stdout",
     "output_type": "stream",
     "text": [
      "Epoch 1/100\n",
      "199/200 [============================>.] - ETA: 1s - loss: 0.7355 - acc: 0.5531 - auc: 0.5769Epoch 00001: val_auc improved from -inf to 0.57766, saving model to ResNet50_best_checkpoint.h5\n",
      "200/200 [==============================] - 304s 2s/step - loss: 0.7351 - acc: 0.5537 - auc: 0.5773 - val_loss: 0.7393 - val_acc: 0.5506 - val_auc: 0.5777\n",
      "Epoch 2/100\n",
      "199/200 [============================>.] - ETA: 1s - loss: 0.6599 - acc: 0.6530 - auc: 0.7124Epoch 00002: val_auc improved from 0.57766 to 0.61281, saving model to ResNet50_best_checkpoint.h5\n",
      "200/200 [==============================] - 295s 1s/step - loss: 0.6596 - acc: 0.6528 - auc: 0.7127 - val_loss: 0.7444 - val_acc: 0.5719 - val_auc: 0.6128\n",
      "Epoch 3/100\n",
      "199/200 [============================>.] - ETA: 1s - loss: 0.6239 - acc: 0.6661 - auc: 0.7476Epoch 00003: val_auc improved from 0.61281 to 0.65531, saving model to ResNet50_best_checkpoint.h5\n",
      "200/200 [==============================] - 294s 1s/step - loss: 0.6231 - acc: 0.6669 - auc: 0.7485 - val_loss: 0.7743 - val_acc: 0.5981 - val_auc: 0.6553\n",
      "Epoch 4/100\n",
      "199/200 [============================>.] - ETA: 1s - loss: 0.5668 - acc: 0.7390 - auc: 0.8112Epoch 00004: val_auc improved from 0.65531 to 0.67172, saving model to ResNet50_best_checkpoint.h5\n",
      "200/200 [==============================] - 295s 1s/step - loss: 0.5671 - acc: 0.7391 - auc: 0.8112 - val_loss: 0.7595 - val_acc: 0.5988 - val_auc: 0.6717\n",
      "Epoch 5/100\n",
      "199/200 [============================>.] - ETA: 1s - loss: 0.5515 - acc: 0.7491 - auc: 0.8263Epoch 00005: val_auc improved from 0.67172 to 0.71828, saving model to ResNet50_best_checkpoint.h5\n",
      "200/200 [==============================] - 294s 1s/step - loss: 0.5519 - acc: 0.7488 - auc: 0.8261 - val_loss: 0.7475 - val_acc: 0.6319 - val_auc: 0.7183\n",
      "Epoch 6/100\n",
      "199/200 [============================>.] - ETA: 1s - loss: 0.5309 - acc: 0.7676 - auc: 0.8432Epoch 00006: val_auc did not improve\n",
      "200/200 [==============================] - 295s 1s/step - loss: 0.5308 - acc: 0.7678 - auc: 0.8434 - val_loss: 0.7732 - val_acc: 0.6125 - val_auc: 0.6945\n",
      "Epoch 7/100\n",
      "199/200 [============================>.] - ETA: 1s - loss: 0.5119 - acc: 0.7729 - auc: 0.8575Epoch 00007: val_auc did not improve\n",
      "200/200 [==============================] - 293s 1s/step - loss: 0.5115 - acc: 0.7731 - auc: 0.8578 - val_loss: 0.7864 - val_acc: 0.6125 - val_auc: 0.7017\n",
      "Epoch 8/100\n",
      "199/200 [============================>.] - ETA: 1s - loss: 0.4917 - acc: 0.7871 - auc: 0.8696Epoch 00008: val_auc did not improve\n",
      "200/200 [==============================] - 295s 1s/step - loss: 0.4912 - acc: 0.7875 - auc: 0.8698 - val_loss: 0.8315 - val_acc: 0.6325 - val_auc: 0.7178\n",
      "Epoch 9/100\n",
      "199/200 [============================>.] - ETA: 1s - loss: 0.4554 - acc: 0.8059 - auc: 0.8889Epoch 00009: val_auc did not improve\n",
      "200/200 [==============================] - 295s 1s/step - loss: 0.4557 - acc: 0.8056 - auc: 0.8886 - val_loss: 0.8563 - val_acc: 0.6269 - val_auc: 0.7081\n",
      "Epoch 10/100\n",
      "199/200 [============================>.] - ETA: 1s - loss: 0.4516 - acc: 0.8100 - auc: 0.8933Epoch 00010: val_auc improved from 0.71828 to 0.72188, saving model to ResNet50_best_checkpoint.h5\n",
      "200/200 [==============================] - 295s 1s/step - loss: 0.4514 - acc: 0.8100 - auc: 0.8934 - val_loss: 0.8785 - val_acc: 0.6162 - val_auc: 0.7219\n",
      "Epoch 11/100\n",
      "199/200 [============================>.] - ETA: 1s - loss: 0.4335 - acc: 0.8269 - auc: 0.9026Epoch 00011: val_auc improved from 0.72188 to 0.73141, saving model to ResNet50_best_checkpoint.h5\n",
      "200/200 [==============================] - 295s 1s/step - loss: 0.4326 - acc: 0.8272 - auc: 0.9030 - val_loss: 0.8658 - val_acc: 0.6338 - val_auc: 0.7314\n",
      "Epoch 12/100\n",
      "199/200 [============================>.] - ETA: 1s - loss: 0.4167 - acc: 0.8282 - auc: 0.9118Epoch 00012: val_auc did not improve\n",
      "200/200 [==============================] - 294s 1s/step - loss: 0.4172 - acc: 0.8278 - auc: 0.9116 - val_loss: 1.0194 - val_acc: 0.5894 - val_auc: 0.6781\n",
      "Epoch 13/100\n",
      "199/200 [============================>.] - ETA: 1s - loss: 0.4016 - acc: 0.8383 - auc: 0.9179Epoch 00013: val_auc did not improve\n",
      "200/200 [==============================] - 295s 1s/step - loss: 0.4012 - acc: 0.8384 - auc: 0.9181 - val_loss: 1.0483 - val_acc: 0.6012 - val_auc: 0.7044\n",
      "Epoch 14/100\n",
      "199/200 [============================>.] - ETA: 1s - loss: 0.3897 - acc: 0.8486 - auc: 0.9250Epoch 00014: val_auc did not improve\n",
      "200/200 [==============================] - 296s 1s/step - loss: 0.3892 - acc: 0.8491 - auc: 0.9252 - val_loss: 1.0393 - val_acc: 0.6312 - val_auc: 0.7234\n",
      "Epoch 15/100\n",
      "199/200 [============================>.] - ETA: 1s - loss: 0.3986 - acc: 0.8420 - auc: 0.9218Epoch 00015: val_auc did not improve\n",
      "200/200 [==============================] - 294s 1s/step - loss: 0.3985 - acc: 0.8422 - auc: 0.9218 - val_loss: 1.0929 - val_acc: 0.6106 - val_auc: 0.7083\n",
      "Epoch 16/100\n",
      "199/200 [============================>.] - ETA: 1s - loss: 0.3795 - acc: 0.8536 - auc: 0.9293Epoch 00016: val_auc did not improve\n",
      "200/200 [==============================] - 295s 1s/step - loss: 0.3789 - acc: 0.8538 - auc: 0.9295 - val_loss: 1.1285 - val_acc: 0.5850 - val_auc: 0.7122\n",
      "Epoch 17/100\n",
      "199/200 [============================>.] - ETA: 1s - loss: 0.3449 - acc: 0.8693 - auc: 0.9458Epoch 00017: val_auc did not improve\n",
      "200/200 [==============================] - 295s 1s/step - loss: 0.3459 - acc: 0.8688 - auc: 0.9452 - val_loss: 1.3144 - val_acc: 0.5887 - val_auc: 0.7114\n",
      "Epoch 18/100\n",
      "199/200 [============================>.] - ETA: 1s - loss: 0.3574 - acc: 0.8602 - auc: 0.9379\n",
      "Epoch 00018: reducing learning rate to 9.999999747378752e-07.\n",
      "Epoch 00018: val_auc did not improve\n",
      "200/200 [==============================] - 297s 1s/step - loss: 0.3569 - acc: 0.8606 - auc: 0.9381 - val_loss: 1.2460 - val_acc: 0.5913 - val_auc: 0.6992\n",
      "Epoch 19/100\n",
      "199/200 [============================>.] - ETA: 1s - loss: 0.3470 - acc: 0.8662 - auc: 0.9437Epoch 00019: val_auc did not improve\n",
      "200/200 [==============================] - 296s 1s/step - loss: 0.3463 - acc: 0.8666 - auc: 0.9439 - val_loss: 1.3148 - val_acc: 0.5844 - val_auc: 0.7034\n",
      "Epoch 20/100\n",
      "199/200 [============================>.] - ETA: 1s - loss: 0.3554 - acc: 0.8584 - auc: 0.9390Epoch 00020: val_auc did not improve\n",
      "200/200 [==============================] - 293s 1s/step - loss: 0.3560 - acc: 0.8581 - auc: 0.9387 - val_loss: 1.2629 - val_acc: 0.5869 - val_auc: 0.7197\n",
      "Epoch 21/100\n",
      "199/200 [============================>.] - ETA: 1s - loss: 0.3483 - acc: 0.8637 - auc: 0.9419Epoch 00021: val_auc did not improve\n",
      "200/200 [==============================] - 294s 1s/step - loss: 0.3495 - acc: 0.8622 - auc: 0.9409 - val_loss: 1.3031 - val_acc: 0.5869 - val_auc: 0.7092\n",
      "Epoch 22/100\n",
      "199/200 [============================>.] - ETA: 1s - loss: 0.3207 - acc: 0.8841 - auc: 0.9505Epoch 00022: val_auc did not improve\n",
      "200/200 [==============================] - 295s 1s/step - loss: 0.3212 - acc: 0.8841 - auc: 0.9503 - val_loss: 1.2884 - val_acc: 0.5837 - val_auc: 0.6995\n",
      "Epoch 23/100\n",
      "199/200 [============================>.] - ETA: 1s - loss: 0.3215 - acc: 0.8772 - auc: 0.9523Epoch 00023: val_auc did not improve\n",
      "200/200 [==============================] - 294s 1s/step - loss: 0.3206 - acc: 0.8778 - auc: 0.9526 - val_loss: 1.2702 - val_acc: 0.5931 - val_auc: 0.7233\n",
      "Epoch 24/100\n",
      "199/200 [============================>.] - ETA: 1s - loss: 0.3213 - acc: 0.8810 - auc: 0.9520\n",
      "Epoch 00024: reducing learning rate to 9.999999974752428e-08.\n",
      "Epoch 00024: val_auc did not improve\n",
      "200/200 [==============================] - 296s 1s/step - loss: 0.3205 - acc: 0.8816 - auc: 0.9523 - val_loss: 1.3364 - val_acc: 0.5750 - val_auc: 0.7119\n",
      "Epoch 25/100\n",
      "199/200 [============================>.] - ETA: 1s - loss: 0.3012 - acc: 0.8935 - auc: 0.9606Epoch 00025: val_auc did not improve\n",
      "200/200 [==============================] - 295s 1s/step - loss: 0.3005 - acc: 0.8938 - auc: 0.9608 - val_loss: 1.2919 - val_acc: 0.5900 - val_auc: 0.7153\n",
      "Epoch 26/100\n",
      "199/200 [============================>.] - ETA: 1s - loss: 0.3213 - acc: 0.8785 - auc: 0.9533Epoch 00026: val_auc did not improve\n",
      "200/200 [==============================] - 296s 1s/step - loss: 0.3207 - acc: 0.8788 - auc: 0.9535 - val_loss: 1.3496 - val_acc: 0.5725 - val_auc: 0.6922\n"
     ]
    }
   ],
   "source": [
    "reducelr = ReduceLROnPlateau(monitor='val_auc', mode='max',patience=6,factor=0.1,verbose=1)\n",
    "\n",
    "model_checkpoint  = ModelCheckpoint('ResNet50_best_checkpoint.h5', save_best_only=True,\n",
    "                                    save_weights_only=True, monitor='val_auc', mode='max', verbose=1)\n",
    "\n",
    "early_stopping = EarlyStopping(monitor='val_auc', patience=15, mode='max')\n",
    "\n",
    "callbacks_list = [reducelr, model_checkpoint, early_stopping]\n",
    "\n",
    "def Generator(batch_size, data ):\n",
    "    while True:\n",
    "        yield getMiniBatch(batch_size=batch_size, data=data)\n",
    "\n",
    "train_gen = Generator(batch_size=16,data=train)\n",
    "val_gen = Generator(batch_size=16,data=val)\n",
    "\n",
    "history = siamese_net.fit_generator( train_gen, samples_per_epoch=200, epochs=100, \n",
    "                          validation_data=val_gen, validation_steps=100, use_multiprocessing=True,\n",
    "                          verbose=1,callbacks=callbacks_list, workers=4)"
   ]
  },
  {
   "cell_type": "markdown",
   "metadata": {},
   "source": [
    "- Visalize ResNet50 model results."
   ]
  },
  {
   "cell_type": "code",
   "execution_count": 24,
   "metadata": {},
   "outputs": [
    {
     "data": {
      "image/png": "[encoded data removed]",
      "text/plain": [
       "<matplotlib.figure.Figure at 0x7f276417c198>"
      ]
     },
     "metadata": {
      "needs_background": "light"
     },
     "output_type": "display_data"
    }
   ],
   "source": [
    "f, (ax1, ax2, ax3) = plt.subplots(1, 3, figsize=(16, 4))\n",
    "t = f.suptitle('Siamese Net Performance', fontsize=12)\n",
    "f.subplots_adjust(top=0.85, wspace=0.3)\n",
    "epoch_list = history.epoch\n",
    "\n",
    "ax1.plot(epoch_list, history.history['acc'], label='Train Accuracy')\n",
    "ax1.plot(epoch_list, history.history['val_acc'], label='Validation Accuracy')\n",
    "ax1.set_xticks(np.arange(0, epoch_list[-1], 5))\n",
    "ax1.set_ylabel('Accuracy Value');ax1.set_xlabel('Epoch');ax1.set_title('Accuracy')\n",
    "ax1.legend(loc=\"best\");ax1.grid(color='gray', linestyle='-', linewidth=0.5)\n",
    "\n",
    "ax2.plot(epoch_list, history.history['loss'], label='Train Loss')\n",
    "ax2.plot(epoch_list, history.history['val_loss'], label='Validation Loss')\n",
    "ax2.set_xticks(np.arange(0, epoch_list[-1], 5))\n",
    "ax2.set_ylabel('Loss Value');ax2.set_xlabel('Epoch');ax2.set_title('Loss')\n",
    "ax2.legend(loc=\"best\");ax2.grid(color='gray', linestyle='-', linewidth=0.5)\n",
    "\n",
    "ax3.plot(epoch_list, history.history['auc'], label='Train AUC')\n",
    "ax3.plot(epoch_list, history.history['val_auc'], label='Validation AUC')\n",
    "ax3.set_xticks(np.arange(0, epoch_list[-1], 5))\n",
    "ax3.set_ylabel('AUC');ax3.set_xlabel('Epoch');ax3.set_title('AUC')\n",
    "ax3.legend(loc=\"best\");ax3.grid(color='gray', linestyle='-', linewidth=0.5)"
   ]
  },
  {
   "cell_type": "code",
   "execution_count": 25,
   "metadata": {},
   "outputs": [],
   "source": [
    "siamese_net.load_weights('ResNet50_best_checkpoint.h5')"
   ]
  },
  {
   "cell_type": "markdown",
   "metadata": {},
   "source": [
    "- Test the model on the testing data."
   ]
  },
  {
   "cell_type": "code",
   "execution_count": 26,
   "metadata": {},
   "outputs": [
    {
     "name": "stdout",
     "output_type": "stream",
     "text": [
      "(5310, 4)\n"
     ]
    },
    {
     "data": {
      "text/html": [
       "<div>\n",
       "<style scoped>\n",
       "    .dataframe tbody tr th:only-of-type {\n",
       "        vertical-align: middle;\n",
       "    }\n",
       "\n",
       "    .dataframe tbody tr th {\n",
       "        vertical-align: top;\n",
       "    }\n",
       "\n",
       "    .dataframe thead th {\n",
       "        text-align: right;\n",
       "    }\n",
       "</style>\n",
       "<table border=\"1\" class=\"dataframe\">\n",
       "  <thead>\n",
       "    <tr style=\"text-align: right;\">\n",
       "      <th></th>\n",
       "      <th>img_pair</th>\n",
       "      <th>is_related</th>\n",
       "      <th>p1</th>\n",
       "      <th>p2</th>\n",
       "    </tr>\n",
       "  </thead>\n",
       "  <tbody>\n",
       "    <tr>\n",
       "      <th>0</th>\n",
       "      <td>face05508.jpg-face01210.jpg</td>\n",
       "      <td>0</td>\n",
       "      <td>kaggle/test/face05508.jpg</td>\n",
       "      <td>kaggle/test/face01210.jpg</td>\n",
       "    </tr>\n",
       "    <tr>\n",
       "      <th>1</th>\n",
       "      <td>face05750.jpg-face00898.jpg</td>\n",
       "      <td>0</td>\n",
       "      <td>kaggle/test/face05750.jpg</td>\n",
       "      <td>kaggle/test/face00898.jpg</td>\n",
       "    </tr>\n",
       "    <tr>\n",
       "      <th>2</th>\n",
       "      <td>face05820.jpg-face03938.jpg</td>\n",
       "      <td>0</td>\n",
       "      <td>kaggle/test/face05820.jpg</td>\n",
       "      <td>kaggle/test/face03938.jpg</td>\n",
       "    </tr>\n",
       "    <tr>\n",
       "      <th>3</th>\n",
       "      <td>face02104.jpg-face01172.jpg</td>\n",
       "      <td>0</td>\n",
       "      <td>kaggle/test/face02104.jpg</td>\n",
       "      <td>kaggle/test/face01172.jpg</td>\n",
       "    </tr>\n",
       "    <tr>\n",
       "      <th>4</th>\n",
       "      <td>face02428.jpg-face05611.jpg</td>\n",
       "      <td>0</td>\n",
       "      <td>kaggle/test/face02428.jpg</td>\n",
       "      <td>kaggle/test/face05611.jpg</td>\n",
       "    </tr>\n",
       "  </tbody>\n",
       "</table>\n",
       "</div>"
      ],
      "text/plain": [
       "                      img_pair  is_related                         p1  \\\n",
       "0  face05508.jpg-face01210.jpg           0  kaggle/test/face05508.jpg   \n",
       "1  face05750.jpg-face00898.jpg           0  kaggle/test/face05750.jpg   \n",
       "2  face05820.jpg-face03938.jpg           0  kaggle/test/face05820.jpg   \n",
       "3  face02104.jpg-face01172.jpg           0  kaggle/test/face02104.jpg   \n",
       "4  face02428.jpg-face05611.jpg           0  kaggle/test/face02428.jpg   \n",
       "\n",
       "                          p2  \n",
       "0  kaggle/test/face01210.jpg  \n",
       "1  kaggle/test/face00898.jpg  \n",
       "2  kaggle/test/face03938.jpg  \n",
       "3  kaggle/test/face01172.jpg  \n",
       "4  kaggle/test/face05611.jpg  "
      ]
     },
     "execution_count": 26,
     "metadata": {},
     "output_type": "execute_result"
    }
   ],
   "source": [
    "submission = pd.read_csv('kaggle/sample_submission.csv')\n",
    "submission['p1'] = submission.img_pair.apply( lambda x: 'kaggle/test/'+x.split('-')[0] )\n",
    "submission['p2'] = submission.img_pair.apply( lambda x: 'kaggle/test/'+x.split('-')[1] )\n",
    "print(submission.shape)\n",
    "submission.head()"
   ]
  },
  {
   "cell_type": "code",
   "execution_count": 27,
   "metadata": {},
   "outputs": [
    {
     "name": "stderr",
     "output_type": "stream",
     "text": [
      "100%|██████████| 11/11 [02:36<00:00, 13.07s/it]\n"
     ]
    }
   ],
   "source": [
    "probs = []\n",
    "for i,j in tqdm([ (0,500),(500,1000),(1000,1500),(1500,2000),(2000,2500),\n",
    "                 (2500,3000),(3000,3500),(3500,4000),(4000,4500),(4500,5000),(5000,5310) ]):\n",
    "    imgs1 = np.array( [ read_img(photo) for photo in submission.p1.values[i:j] ] )\n",
    "    imgs2 = np.array( [ read_img(photo) for photo in submission.p2.values[i:j] ] )\n",
    "    prob =  siamese_net.predict( [ imgs1, imgs2 ] )\n",
    "    probs.append(np.squeeze(prob))\n",
    "    del imgs1,imgs2; gc.collect()"
   ]
  },
  {
   "cell_type": "code",
   "execution_count": 28,
   "metadata": {},
   "outputs": [
    {
     "data": {
      "text/html": [
       "<div>\n",
       "<style scoped>\n",
       "    .dataframe tbody tr th:only-of-type {\n",
       "        vertical-align: middle;\n",
       "    }\n",
       "\n",
       "    .dataframe tbody tr th {\n",
       "        vertical-align: top;\n",
       "    }\n",
       "\n",
       "    .dataframe thead th {\n",
       "        text-align: right;\n",
       "    }\n",
       "</style>\n",
       "<table border=\"1\" class=\"dataframe\">\n",
       "  <thead>\n",
       "    <tr style=\"text-align: right;\">\n",
       "      <th></th>\n",
       "      <th>img_pair</th>\n",
       "      <th>is_related</th>\n",
       "    </tr>\n",
       "  </thead>\n",
       "  <tbody>\n",
       "    <tr>\n",
       "      <th>0</th>\n",
       "      <td>face05508.jpg-face01210.jpg</td>\n",
       "      <td>0.131412</td>\n",
       "    </tr>\n",
       "    <tr>\n",
       "      <th>1</th>\n",
       "      <td>face05750.jpg-face00898.jpg</td>\n",
       "      <td>0.235038</td>\n",
       "    </tr>\n",
       "    <tr>\n",
       "      <th>2</th>\n",
       "      <td>face05820.jpg-face03938.jpg</td>\n",
       "      <td>0.881587</td>\n",
       "    </tr>\n",
       "    <tr>\n",
       "      <th>3</th>\n",
       "      <td>face02104.jpg-face01172.jpg</td>\n",
       "      <td>0.388984</td>\n",
       "    </tr>\n",
       "    <tr>\n",
       "      <th>4</th>\n",
       "      <td>face02428.jpg-face05611.jpg</td>\n",
       "      <td>0.436520</td>\n",
       "    </tr>\n",
       "  </tbody>\n",
       "</table>\n",
       "</div>"
      ],
      "text/plain": [
       "                      img_pair  is_related\n",
       "0  face05508.jpg-face01210.jpg    0.131412\n",
       "1  face05750.jpg-face00898.jpg    0.235038\n",
       "2  face05820.jpg-face03938.jpg    0.881587\n",
       "3  face02104.jpg-face01172.jpg    0.388984\n",
       "4  face02428.jpg-face05611.jpg    0.436520"
      ]
     },
     "execution_count": 28,
     "metadata": {},
     "output_type": "execute_result"
    }
   ],
   "source": [
    "submission.is_related = np.concatenate(probs)\n",
    "submission.drop( ['p1','p2'],axis=1,inplace=True )\n",
    "submission.head()"
   ]
  },
  {
   "cell_type": "code",
   "execution_count": 29,
   "metadata": {},
   "outputs": [],
   "source": [
    "submission.to_csv('ResNet50_submission.csv',index=False)"
   ]
  },
  {
   "cell_type": "code",
   "execution_count": null,
   "metadata": {},
   "outputs": [],
   "source": []
  },
  {
   "cell_type": "markdown",
   "metadata": {},
   "source": [
    "## SENET50 Model\n",
    "Applying almost the same above steps to train, validate and test a ResNet50 network."
   ]
  },
  {
   "cell_type": "code",
   "execution_count": 30,
   "metadata": {},
   "outputs": [
    {
     "name": "stdout",
     "output_type": "stream",
     "text": [
      "Downloading data from https://github.com/rcmalli/keras-vggface/releases/download/v2.0/rcmalli_vggface_tf_notop_senet50.h5\n",
      "104947712/104944616 [==============================] - 3s 0us/step\n"
     ]
    }
   ],
   "source": [
    "vggface = VGGFace(model = 'senet50', include_top=False)\n",
    "\n",
    "for layer in vggface.layers[:-3]:\n",
    "    layer.trainable=True"
   ]
  },
  {
   "cell_type": "code",
   "execution_count": 31,
   "metadata": {},
   "outputs": [],
   "source": [
    "left_input = Input(IMG_DIM)\n",
    "right_input = Input(IMG_DIM)\n",
    "\n",
    "x1 = vggface(left_input)\n",
    "x2 = vggface(right_input)\n",
    "\n",
    "x1 = Concatenate(axis=-1)([GlobalMaxPool2D()(x1), GlobalAvgPool2D()(x1)])\n",
    "x2 = Concatenate(axis=-1)([GlobalMaxPool2D()(x2), GlobalAvgPool2D()(x2)])\n",
    "\n",
    "fc = Dense(100,activation='relu',kernel_regularizer=l2(1e-3),\n",
    "                   kernel_initializer=initialize_weights,bias_initializer=initialize_bias)\n",
    "x1 = fc(x1)\n",
    "x2 = fc(x2)\n",
    "\n",
    "# |h1-h2|\n",
    "x3 = Lambda(lambda tensors : K.abs(tensors[0] - tensors[1]))([x1, x2])\n",
    "\n",
    "# |h1-h2|^2\n",
    "x4 = Lambda(lambda tensor  : K.square(tensor))(x3)\n",
    "\n",
    "# h1*h2\n",
    "x5 = Multiply()([x1, x2])\n",
    "\n",
    "# |h1-h2|^2 + h1*h2\n",
    "x = Concatenate(axis=-1)([x4,x5])\n",
    "\n",
    "x = Dense(100,activation='relu',kernel_regularizer=l2(1e-3),\n",
    "                   kernel_initializer=initialize_weights,bias_initializer=initialize_bias)(x)\n",
    "x = Dropout(0.2)(x)\n",
    "\n",
    "\n",
    "prediction = Dense(1,activation='sigmoid',bias_initializer=initialize_bias)(x)\n",
    "\n",
    "siamese_net = Model(inputs=[left_input,right_input],outputs=prediction)\n",
    "\n",
    "optimizer = Adam(1e-5)\n",
    "\n",
    "siamese_net.compile(loss=\"binary_crossentropy\",optimizer=optimizer,metrics=['accuracy',auc])"
   ]
  },
  {
   "cell_type": "code",
   "execution_count": 32,
   "metadata": {},
   "outputs": [
    {
     "name": "stdout",
     "output_type": "stream",
     "text": [
      "Epoch 1/100\n",
      "199/200 [============================>.] - ETA: 1s - loss: 0.7491 - acc: 0.5732 - auc: 0.6042Epoch 00001: val_auc improved from -inf to 0.60172, saving model to SENET50_best_checkpoint.h5\n",
      "200/200 [==============================] - 337s 2s/step - loss: 0.7490 - acc: 0.5722 - auc: 0.6037 - val_loss: 0.7473 - val_acc: 0.5619 - val_auc: 0.6017\n",
      "Epoch 2/100\n",
      "199/200 [============================>.] - ETA: 1s - loss: 0.6602 - acc: 0.6470 - auc: 0.7190Epoch 00002: val_auc improved from 0.60172 to 0.64359, saving model to SENET50_best_checkpoint.h5\n",
      "200/200 [==============================] - 323s 2s/step - loss: 0.6601 - acc: 0.6469 - auc: 0.7191 - val_loss: 0.7689 - val_acc: 0.5850 - val_auc: 0.6436\n",
      "Epoch 3/100\n",
      "199/200 [============================>.] - ETA: 1s - loss: 0.6222 - acc: 0.6850 - auc: 0.7636Epoch 00003: val_auc improved from 0.64359 to 0.71828, saving model to SENET50_best_checkpoint.h5\n",
      "200/200 [==============================] - 323s 2s/step - loss: 0.6218 - acc: 0.6847 - auc: 0.7639 - val_loss: 0.6990 - val_acc: 0.6400 - val_auc: 0.7183\n",
      "Epoch 4/100\n",
      "199/200 [============================>.] - ETA: 1s - loss: 0.5892 - acc: 0.7198 - auc: 0.7941Epoch 00004: val_auc did not improve\n",
      "200/200 [==============================] - 323s 2s/step - loss: 0.5881 - acc: 0.7203 - auc: 0.7949 - val_loss: 0.7390 - val_acc: 0.6038 - val_auc: 0.6866\n",
      "Epoch 5/100\n",
      "199/200 [============================>.] - ETA: 1s - loss: 0.5718 - acc: 0.7239 - auc: 0.8043Epoch 00005: val_auc did not improve\n",
      "200/200 [==============================] - 324s 2s/step - loss: 0.5711 - acc: 0.7244 - auc: 0.8048 - val_loss: 0.7673 - val_acc: 0.6162 - val_auc: 0.6878\n",
      "Epoch 6/100\n",
      "199/200 [============================>.] - ETA: 1s - loss: 0.5481 - acc: 0.7513 - auc: 0.8301Epoch 00006: val_auc improved from 0.71828 to 0.72281, saving model to SENET50_best_checkpoint.h5\n",
      "200/200 [==============================] - 324s 2s/step - loss: 0.5486 - acc: 0.7512 - auc: 0.8303 - val_loss: 0.8330 - val_acc: 0.6275 - val_auc: 0.7228\n",
      "Epoch 7/100\n",
      "199/200 [============================>.] - ETA: 1s - loss: 0.5370 - acc: 0.7497 - auc: 0.8412Epoch 00007: val_auc did not improve\n",
      "200/200 [==============================] - 325s 2s/step - loss: 0.5369 - acc: 0.7491 - auc: 0.8413 - val_loss: 0.8362 - val_acc: 0.6131 - val_auc: 0.7013\n",
      "Epoch 8/100\n",
      "199/200 [============================>.] - ETA: 1s - loss: 0.5245 - acc: 0.7692 - auc: 0.8526Epoch 00008: val_auc did not improve\n",
      "200/200 [==============================] - 326s 2s/step - loss: 0.5245 - acc: 0.7691 - auc: 0.8527 - val_loss: 0.7550 - val_acc: 0.6225 - val_auc: 0.7053\n",
      "Epoch 9/100\n",
      "199/200 [============================>.] - ETA: 1s - loss: 0.5133 - acc: 0.7682 - auc: 0.8576Epoch 00009: val_auc did not improve\n",
      "200/200 [==============================] - 326s 2s/step - loss: 0.5128 - acc: 0.7684 - auc: 0.8580 - val_loss: 0.8170 - val_acc: 0.6162 - val_auc: 0.7073\n",
      "Epoch 10/100\n",
      "199/200 [============================>.] - ETA: 1s - loss: 0.4884 - acc: 0.7823 - auc: 0.8731Epoch 00010: val_auc did not improve\n",
      "200/200 [==============================] - 325s 2s/step - loss: 0.4889 - acc: 0.7822 - auc: 0.8727 - val_loss: 1.0258 - val_acc: 0.5969 - val_auc: 0.6713\n",
      "Epoch 11/100\n",
      "199/200 [============================>.] - ETA: 1s - loss: 0.4782 - acc: 0.7974 - auc: 0.8785Epoch 00011: val_auc did not improve\n",
      "200/200 [==============================] - 325s 2s/step - loss: 0.4783 - acc: 0.7975 - auc: 0.8785 - val_loss: 0.8970 - val_acc: 0.6169 - val_auc: 0.6981\n",
      "Epoch 12/100\n",
      "199/200 [============================>.] - ETA: 1s - loss: 0.4787 - acc: 0.7937 - auc: 0.8794Epoch 00012: val_auc did not improve\n",
      "200/200 [==============================] - 326s 2s/step - loss: 0.4804 - acc: 0.7931 - auc: 0.8783 - val_loss: 0.8776 - val_acc: 0.6300 - val_auc: 0.7117\n",
      "Epoch 13/100\n",
      "199/200 [============================>.] - ETA: 1s - loss: 0.4779 - acc: 0.7930 - auc: 0.8803\n",
      "Epoch 00013: reducing learning rate to 9.999999747378752e-07.\n",
      "Epoch 00013: val_auc did not improve\n",
      "200/200 [==============================] - 328s 2s/step - loss: 0.4772 - acc: 0.7937 - auc: 0.8805 - val_loss: 0.9596 - val_acc: 0.6238 - val_auc: 0.7208\n",
      "Epoch 14/100\n",
      "199/200 [============================>.] - ETA: 1s - loss: 0.4520 - acc: 0.8122 - auc: 0.8937Epoch 00014: val_auc did not improve\n",
      "200/200 [==============================] - 325s 2s/step - loss: 0.4514 - acc: 0.8128 - auc: 0.8940 - val_loss: 0.9805 - val_acc: 0.5962 - val_auc: 0.6902\n",
      "Epoch 15/100\n",
      "199/200 [============================>.] - ETA: 1s - loss: 0.4215 - acc: 0.8247 - auc: 0.9120Epoch 00015: val_auc did not improve\n",
      "200/200 [==============================] - 325s 2s/step - loss: 0.4221 - acc: 0.8241 - auc: 0.9116 - val_loss: 0.9836 - val_acc: 0.6006 - val_auc: 0.6886\n",
      "Epoch 16/100\n",
      "199/200 [============================>.] - ETA: 1s - loss: 0.4211 - acc: 0.8260 - auc: 0.9094Epoch 00016: val_auc improved from 0.72281 to 0.72344, saving model to SENET50_best_checkpoint.h5\n",
      "200/200 [==============================] - 325s 2s/step - loss: 0.4208 - acc: 0.8256 - auc: 0.9095 - val_loss: 0.9527 - val_acc: 0.6188 - val_auc: 0.7234\n",
      "Epoch 17/100\n",
      "199/200 [============================>.] - ETA: 1s - loss: 0.4293 - acc: 0.8254 - auc: 0.9030Epoch 00017: val_auc did not improve\n",
      "200/200 [==============================] - 325s 2s/step - loss: 0.4294 - acc: 0.8250 - auc: 0.9030 - val_loss: 1.1239 - val_acc: 0.5962 - val_auc: 0.6944\n",
      "Epoch 18/100\n",
      "199/200 [============================>.] - ETA: 1s - loss: 0.4000 - acc: 0.8405 - auc: 0.9202Epoch 00018: val_auc did not improve\n",
      "200/200 [==============================] - 325s 2s/step - loss: 0.3991 - acc: 0.8409 - auc: 0.9206 - val_loss: 1.0530 - val_acc: 0.6112 - val_auc: 0.7000\n",
      "Epoch 19/100\n",
      "199/200 [============================>.] - ETA: 1s - loss: 0.4052 - acc: 0.8376 - auc: 0.9138Epoch 00019: val_auc did not improve\n",
      "200/200 [==============================] - 325s 2s/step - loss: 0.4051 - acc: 0.8372 - auc: 0.9140 - val_loss: 1.0612 - val_acc: 0.6025 - val_auc: 0.7047\n",
      "Epoch 20/100\n",
      "199/200 [============================>.] - ETA: 1s - loss: 0.3981 - acc: 0.8417 - auc: 0.9179Epoch 00020: val_auc did not improve\n",
      "200/200 [==============================] - 324s 2s/step - loss: 0.3973 - acc: 0.8422 - auc: 0.9183 - val_loss: 1.0087 - val_acc: 0.6131 - val_auc: 0.7231\n",
      "Epoch 21/100\n",
      "199/200 [============================>.] - ETA: 1s - loss: 0.3934 - acc: 0.8392 - auc: 0.9234Epoch 00021: val_auc did not improve\n",
      "200/200 [==============================] - 325s 2s/step - loss: 0.3944 - acc: 0.8387 - auc: 0.9229 - val_loss: 1.1114 - val_acc: 0.6062 - val_auc: 0.6934\n",
      "Epoch 22/100\n",
      "199/200 [============================>.] - ETA: 1s - loss: 0.3880 - acc: 0.8496 - auc: 0.9268Epoch 00022: val_auc did not improve\n",
      "200/200 [==============================] - 325s 2s/step - loss: 0.3872 - acc: 0.8500 - auc: 0.9272 - val_loss: 1.1480 - val_acc: 0.5981 - val_auc: 0.7166\n",
      "Epoch 23/100\n",
      "199/200 [============================>.] - ETA: 1s - loss: 0.3768 - acc: 0.8571 - auc: 0.9322\n",
      "Epoch 00023: reducing learning rate to 9.999999974752428e-08.\n",
      "Epoch 00023: val_auc did not improve\n",
      "200/200 [==============================] - 324s 2s/step - loss: 0.3762 - acc: 0.8575 - auc: 0.9325 - val_loss: 1.1658 - val_acc: 0.5919 - val_auc: 0.6884\n",
      "Epoch 24/100\n",
      "199/200 [============================>.] - ETA: 1s - loss: 0.3552 - acc: 0.8640 - auc: 0.9386Epoch 00024: val_auc did not improve\n",
      "200/200 [==============================] - 324s 2s/step - loss: 0.3572 - acc: 0.8628 - auc: 0.9379 - val_loss: 1.1989 - val_acc: 0.5944 - val_auc: 0.6870\n",
      "Epoch 25/100\n",
      "199/200 [============================>.] - ETA: 1s - loss: 0.3572 - acc: 0.8653 - auc: 0.9415Epoch 00025: val_auc did not improve\n",
      "200/200 [==============================] - 324s 2s/step - loss: 0.3573 - acc: 0.8653 - auc: 0.9415 - val_loss: 1.0781 - val_acc: 0.6006 - val_auc: 0.7220\n",
      "Epoch 26/100\n",
      "199/200 [============================>.] - ETA: 1s - loss: 0.3513 - acc: 0.8609 - auc: 0.9409Epoch 00026: val_auc did not improve\n",
      "200/200 [==============================] - 325s 2s/step - loss: 0.3505 - acc: 0.8616 - auc: 0.9412 - val_loss: 1.2104 - val_acc: 0.5831 - val_auc: 0.6742\n",
      "Epoch 27/100\n",
      "199/200 [============================>.] - ETA: 1s - loss: 0.3745 - acc: 0.8549 - auc: 0.9298Epoch 00027: val_auc did not improve\n",
      "200/200 [==============================] - 324s 2s/step - loss: 0.3746 - acc: 0.8550 - auc: 0.9295 - val_loss: 1.1929 - val_acc: 0.6044 - val_auc: 0.7031\n",
      "Epoch 28/100\n",
      "199/200 [============================>.] - ETA: 1s - loss: 0.3696 - acc: 0.8574 - auc: 0.9345Epoch 00028: val_auc did not improve\n",
      "200/200 [==============================] - 324s 2s/step - loss: 0.3695 - acc: 0.8575 - auc: 0.9345 - val_loss: 1.1639 - val_acc: 0.6038 - val_auc: 0.6855\n",
      "Epoch 29/100\n",
      "199/200 [============================>.] - ETA: 1s - loss: 0.3713 - acc: 0.8508 - auc: 0.9329\n",
      "Epoch 00029: reducing learning rate to 1.0000000116860975e-08.\n",
      "Epoch 00029: val_auc did not improve\n",
      "200/200 [==============================] - 325s 2s/step - loss: 0.3718 - acc: 0.8503 - auc: 0.9327 - val_loss: 1.2464 - val_acc: 0.5950 - val_auc: 0.6989\n",
      "Epoch 30/100\n",
      "199/200 [============================>.] - ETA: 1s - loss: 0.3822 - acc: 0.8514 - auc: 0.9281Epoch 00030: val_auc did not improve\n",
      "200/200 [==============================] - 325s 2s/step - loss: 0.3845 - acc: 0.8506 - auc: 0.9270 - val_loss: 1.1992 - val_acc: 0.5887 - val_auc: 0.6978\n",
      "Epoch 31/100\n",
      "199/200 [============================>.] - ETA: 1s - loss: 0.3639 - acc: 0.8574 - auc: 0.9375Epoch 00031: val_auc did not improve\n",
      "200/200 [==============================] - 325s 2s/step - loss: 0.3636 - acc: 0.8575 - auc: 0.9376 - val_loss: 1.1446 - val_acc: 0.6050 - val_auc: 0.7061\n"
     ]
    }
   ],
   "source": [
    "reducelr = ReduceLROnPlateau(monitor='val_auc', mode='max',patience=6,factor=0.1,verbose=1)\n",
    "\n",
    "model_checkpoint  = ModelCheckpoint('SENET50_best_checkpoint.h5', save_best_only=True,\n",
    "                                    save_weights_only=True, monitor='val_auc', mode='max', verbose=1)\n",
    "\n",
    "early_stopping = EarlyStopping(monitor='val_auc', patience=15, mode='max')\n",
    "\n",
    "callbacks_list = [reducelr, model_checkpoint, early_stopping]\n",
    "\n",
    "def Generator(batch_size, data ):\n",
    "    while True:\n",
    "        yield getMiniBatch(batch_size=batch_size, data=data)\n",
    "\n",
    "train_gen = Generator(batch_size=16,data=train)\n",
    "val_gen = Generator(batch_size=16,data=val)\n",
    "\n",
    "history = siamese_net.fit_generator( train_gen, samples_per_epoch=200, epochs=100, \n",
    "                          validation_data=val_gen, validation_steps=100, use_multiprocessing=True,\n",
    "                          verbose=1,callbacks=callbacks_list, workers=4)"
   ]
  },
  {
   "cell_type": "code",
   "execution_count": null,
   "metadata": {},
   "outputs": [],
   "source": []
  },
  {
   "cell_type": "markdown",
   "metadata": {},
   "source": [
    "- Visualize the Senet50 model results."
   ]
  },
  {
   "cell_type": "code",
   "execution_count": 33,
   "metadata": {},
   "outputs": [
    {
     "data": {
      "image/png": "[encoded data removed]",
      "text/plain": [
       "<matplotlib.figure.Figure at 0x7f274d76ccc0>"
      ]
     },
     "metadata": {
      "needs_background": "light"
     },
     "output_type": "display_data"
    }
   ],
   "source": [
    "f, (ax1, ax2, ax3) = plt.subplots(1, 3, figsize=(16, 4))\n",
    "t = f.suptitle('Siamese Net Performance', fontsize=12)\n",
    "f.subplots_adjust(top=0.85, wspace=0.3)\n",
    "epoch_list = history.epoch\n",
    "\n",
    "ax1.plot(epoch_list, history.history['acc'], label='Train Accuracy')\n",
    "ax1.plot(epoch_list, history.history['val_acc'], label='Validation Accuracy')\n",
    "ax1.set_xticks(np.arange(0, epoch_list[-1], 5))\n",
    "ax1.set_ylabel('Accuracy Value');ax1.set_xlabel('Epoch');ax1.set_title('Accuracy')\n",
    "ax1.legend(loc=\"best\");ax1.grid(color='gray', linestyle='-', linewidth=0.5)\n",
    "\n",
    "ax2.plot(epoch_list, history.history['loss'], label='Train Loss')\n",
    "ax2.plot(epoch_list, history.history['val_loss'], label='Validation Loss')\n",
    "ax2.set_xticks(np.arange(0, epoch_list[-1], 5))\n",
    "ax2.set_ylabel('Loss Value');ax2.set_xlabel('Epoch');ax2.set_title('Loss')\n",
    "ax2.legend(loc=\"best\");ax2.grid(color='gray', linestyle='-', linewidth=0.5)\n",
    "\n",
    "ax3.plot(epoch_list, history.history['auc'], label='Train AUC')\n",
    "ax3.plot(epoch_list, history.history['val_auc'], label='Validation AUC')\n",
    "ax3.set_xticks(np.arange(0, epoch_list[-1], 5))\n",
    "ax3.set_ylabel('AUC');ax3.set_xlabel('Epoch');ax3.set_title('AUC')\n",
    "ax3.legend(loc=\"best\");ax3.grid(color='gray', linestyle='-', linewidth=0.5)"
   ]
  },
  {
   "cell_type": "code",
   "execution_count": 34,
   "metadata": {},
   "outputs": [],
   "source": [
    "siamese_net.load_weights('SENET50_best_checkpoint.h5')"
   ]
  },
  {
   "cell_type": "markdown",
   "metadata": {},
   "source": [
    "- Test the model on the testing data."
   ]
  },
  {
   "cell_type": "code",
   "execution_count": 35,
   "metadata": {},
   "outputs": [
    {
     "name": "stdout",
     "output_type": "stream",
     "text": [
      "(5310, 4)\n"
     ]
    },
    {
     "data": {
      "text/html": [
       "<div>\n",
       "<style scoped>\n",
       "    .dataframe tbody tr th:only-of-type {\n",
       "        vertical-align: middle;\n",
       "    }\n",
       "\n",
       "    .dataframe tbody tr th {\n",
       "        vertical-align: top;\n",
       "    }\n",
       "\n",
       "    .dataframe thead th {\n",
       "        text-align: right;\n",
       "    }\n",
       "</style>\n",
       "<table border=\"1\" class=\"dataframe\">\n",
       "  <thead>\n",
       "    <tr style=\"text-align: right;\">\n",
       "      <th></th>\n",
       "      <th>img_pair</th>\n",
       "      <th>is_related</th>\n",
       "      <th>p1</th>\n",
       "      <th>p2</th>\n",
       "    </tr>\n",
       "  </thead>\n",
       "  <tbody>\n",
       "    <tr>\n",
       "      <th>0</th>\n",
       "      <td>face05508.jpg-face01210.jpg</td>\n",
       "      <td>0</td>\n",
       "      <td>kaggle/test/face05508.jpg</td>\n",
       "      <td>kaggle/test/face01210.jpg</td>\n",
       "    </tr>\n",
       "    <tr>\n",
       "      <th>1</th>\n",
       "      <td>face05750.jpg-face00898.jpg</td>\n",
       "      <td>0</td>\n",
       "      <td>kaggle/test/face05750.jpg</td>\n",
       "      <td>kaggle/test/face00898.jpg</td>\n",
       "    </tr>\n",
       "    <tr>\n",
       "      <th>2</th>\n",
       "      <td>face05820.jpg-face03938.jpg</td>\n",
       "      <td>0</td>\n",
       "      <td>kaggle/test/face05820.jpg</td>\n",
       "      <td>kaggle/test/face03938.jpg</td>\n",
       "    </tr>\n",
       "    <tr>\n",
       "      <th>3</th>\n",
       "      <td>face02104.jpg-face01172.jpg</td>\n",
       "      <td>0</td>\n",
       "      <td>kaggle/test/face02104.jpg</td>\n",
       "      <td>kaggle/test/face01172.jpg</td>\n",
       "    </tr>\n",
       "    <tr>\n",
       "      <th>4</th>\n",
       "      <td>face02428.jpg-face05611.jpg</td>\n",
       "      <td>0</td>\n",
       "      <td>kaggle/test/face02428.jpg</td>\n",
       "      <td>kaggle/test/face05611.jpg</td>\n",
       "    </tr>\n",
       "  </tbody>\n",
       "</table>\n",
       "</div>"
      ],
      "text/plain": [
       "                      img_pair  is_related                         p1  \\\n",
       "0  face05508.jpg-face01210.jpg           0  kaggle/test/face05508.jpg   \n",
       "1  face05750.jpg-face00898.jpg           0  kaggle/test/face05750.jpg   \n",
       "2  face05820.jpg-face03938.jpg           0  kaggle/test/face05820.jpg   \n",
       "3  face02104.jpg-face01172.jpg           0  kaggle/test/face02104.jpg   \n",
       "4  face02428.jpg-face05611.jpg           0  kaggle/test/face02428.jpg   \n",
       "\n",
       "                          p2  \n",
       "0  kaggle/test/face01210.jpg  \n",
       "1  kaggle/test/face00898.jpg  \n",
       "2  kaggle/test/face03938.jpg  \n",
       "3  kaggle/test/face01172.jpg  \n",
       "4  kaggle/test/face05611.jpg  "
      ]
     },
     "execution_count": 35,
     "metadata": {},
     "output_type": "execute_result"
    }
   ],
   "source": [
    "submission = pd.read_csv('kaggle/sample_submission.csv')\n",
    "submission['p1'] = submission.img_pair.apply( lambda x: 'kaggle/test/' + x.split('-')[0] )\n",
    "submission['p2'] = submission.img_pair.apply( lambda x: 'kaggle/test/' + x.split('-')[1] )\n",
    "print(submission.shape)\n",
    "submission.head()"
   ]
  },
  {
   "cell_type": "code",
   "execution_count": 36,
   "metadata": {},
   "outputs": [
    {
     "name": "stderr",
     "output_type": "stream",
     "text": [
      "100%|██████████| 11/11 [02:47<00:00, 13.90s/it]\n"
     ]
    }
   ],
   "source": [
    "probs = []\n",
    "for i,j in tqdm([ (0,500),(500,1000),(1000,1500),(1500,2000),(2000,2500),\n",
    "                 (2500,3000),(3000,3500),(3500,4000),(4000,4500),(4500,5000),(5000,5310) ]):\n",
    "    imgs1 = np.array( [ read_img(photo) for photo in submission.p1.values[i:j] ] )\n",
    "    imgs2 = np.array( [ read_img(photo) for photo in submission.p2.values[i:j] ] )\n",
    "    prob =  siamese_net.predict( [ imgs1, imgs2 ] )\n",
    "    probs.append(np.squeeze(prob))\n",
    "    del imgs1,imgs2; gc.collect()"
   ]
  },
  {
   "cell_type": "code",
   "execution_count": 37,
   "metadata": {},
   "outputs": [
    {
     "data": {
      "text/html": [
       "<div>\n",
       "<style scoped>\n",
       "    .dataframe tbody tr th:only-of-type {\n",
       "        vertical-align: middle;\n",
       "    }\n",
       "\n",
       "    .dataframe tbody tr th {\n",
       "        vertical-align: top;\n",
       "    }\n",
       "\n",
       "    .dataframe thead th {\n",
       "        text-align: right;\n",
       "    }\n",
       "</style>\n",
       "<table border=\"1\" class=\"dataframe\">\n",
       "  <thead>\n",
       "    <tr style=\"text-align: right;\">\n",
       "      <th></th>\n",
       "      <th>img_pair</th>\n",
       "      <th>is_related</th>\n",
       "    </tr>\n",
       "  </thead>\n",
       "  <tbody>\n",
       "    <tr>\n",
       "      <th>0</th>\n",
       "      <td>face05508.jpg-face01210.jpg</td>\n",
       "      <td>0.036224</td>\n",
       "    </tr>\n",
       "    <tr>\n",
       "      <th>1</th>\n",
       "      <td>face05750.jpg-face00898.jpg</td>\n",
       "      <td>0.802770</td>\n",
       "    </tr>\n",
       "    <tr>\n",
       "      <th>2</th>\n",
       "      <td>face05820.jpg-face03938.jpg</td>\n",
       "      <td>0.695187</td>\n",
       "    </tr>\n",
       "    <tr>\n",
       "      <th>3</th>\n",
       "      <td>face02104.jpg-face01172.jpg</td>\n",
       "      <td>0.854366</td>\n",
       "    </tr>\n",
       "    <tr>\n",
       "      <th>4</th>\n",
       "      <td>face02428.jpg-face05611.jpg</td>\n",
       "      <td>0.444171</td>\n",
       "    </tr>\n",
       "  </tbody>\n",
       "</table>\n",
       "</div>"
      ],
      "text/plain": [
       "                      img_pair  is_related\n",
       "0  face05508.jpg-face01210.jpg    0.036224\n",
       "1  face05750.jpg-face00898.jpg    0.802770\n",
       "2  face05820.jpg-face03938.jpg    0.695187\n",
       "3  face02104.jpg-face01172.jpg    0.854366\n",
       "4  face02428.jpg-face05611.jpg    0.444171"
      ]
     },
     "execution_count": 37,
     "metadata": {},
     "output_type": "execute_result"
    }
   ],
   "source": [
    "submission.is_related = np.concatenate(probs)\n",
    "submission.drop(['p1','p2'], axis = 1, inplace = True)\n",
    "submission.head()"
   ]
  },
  {
   "cell_type": "code",
   "execution_count": 38,
   "metadata": {},
   "outputs": [],
   "source": [
    "submission.to_csv('SENET50_submission.csv', index = False)"
   ]
  }
 ],
 "metadata": {
  "kernelspec": {
   "display_name": "Python 3",
   "language": "python",
   "name": "python3"
  },
  "language_info": {
   "codemirror_mode": {
    "name": "ipython",
    "version": 3
   },
   "file_extension": ".py",
   "mimetype": "text/x-python",
   "name": "python",
   "nbconvert_exporter": "python",
   "pygments_lexer": "ipython3",
   "version": "3.6.3"
  }
 },
 "nbformat": 4,
 "nbformat_minor": 2
}
