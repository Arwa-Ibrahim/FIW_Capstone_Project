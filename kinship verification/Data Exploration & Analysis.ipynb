{
 "cells": [
  {
   "cell_type": "markdown",
   "metadata": {},
   "source": [
    "## FIW Databas Overview\n",
    "\n",
    "- Families In the Wild (FIW) is the largest and most comprehensive image database for automatic kinship recognition. It is made-up of 11,932 family photos that span 1,000 different families, with the data distributed fairly with average of about 12 images per family, each with at least 3 and as many as 38 members. This data supports all prior pair-wise types and also introduces grandparent-grandchild pairs (GF-GD, GF-GS, GM-GD, GM-GS). In addition of it is a public and noncommercial database.\n",
    "\n",
    "\n",
    "- Int this part of the project the kaggle version of the database will be used to solve the kinship verification task."
   ]
  },
  {
   "cell_type": "code",
   "execution_count": 1,
   "metadata": {},
   "outputs": [],
   "source": [
    "import os\n",
    "import glob\n",
    "import base64\n",
    "import zipfile\n",
    "import numpy as np\n",
    "import pandas as pd\n",
    "from PIL import Image\n",
    "from io import BytesIO\n",
    "import matplotlib.pyplot as plt\n",
    "from IPython.display import HTML\n",
    "from collections import defaultdict"
   ]
  },
  {
   "cell_type": "markdown",
   "metadata": {},
   "source": [
    "## Data Cleansing & Exploration\n",
    "\n",
    "__1)__  Defining some useful functions for data preprocessing and visualizations."
   ]
  },
  {
   "cell_type": "code",
   "execution_count": 2,
   "metadata": {},
   "outputs": [],
   "source": [
    "pd.set_option('display.max_colwidth', -1)\n",
    "######################################################################\n",
    "###### Function that returns the thumbnail version of an image  ######\n",
    "######################################################################\n",
    "def get_thumbnail(path):\n",
    "    if path and os.path.exists(path):\n",
    "        i = Image.open(path)\n",
    "        i.thumbnail((150, 150), Image.LANCZOS)\n",
    "        return i\n",
    "######################################################################\n",
    "####### Function that returns the base64 format from an image  #######\n",
    "######################################################################\n",
    "def image_base64(im):\n",
    "    if isinstance(im, str):\n",
    "        im = get_thumbnail(im)\n",
    "    with BytesIO() as buffer:\n",
    "        im.save(buffer, 'jpeg')\n",
    "        return base64.b64encode(buffer.getvalue()).decode()\n",
    "######################################################################\n",
    "############## Function that returns the image format  ###############\n",
    "######################################################################\n",
    "def image_formatter(im):\n",
    "    return f'<img src=\"data:image/jpeg;base64,{image_base64(im)}\">'\n",
    "######################################################################\n",
    "######## Function that returns the image path from it's code  ########\n",
    "######################################################################\n",
    "def add_image_path(x,path):\n",
    "    image_path = path + x\n",
    "    if os.path.exists(image_path):\n",
    "        path = os.path.join(image_path, os.listdir(image_path)[0])\n",
    "        return path"
   ]
  },
  {
   "cell_type": "markdown",
   "metadata": {},
   "source": [
    "__2)__  Loading the train_relationships file as a dataframe in the kin_data variable and exploring it's content to find out that it consists of 3598 records each record is a family and member codes for the pair of images."
   ]
  },
  {
   "cell_type": "code",
   "execution_count": 3,
   "metadata": {},
   "outputs": [
    {
     "name": "stdout",
     "output_type": "stream",
     "text": [
      "(3598, 2)\n"
     ]
    },
    {
     "data": {
      "text/html": [
       "<div>\n",
       "<style scoped>\n",
       "    .dataframe tbody tr th:only-of-type {\n",
       "        vertical-align: middle;\n",
       "    }\n",
       "\n",
       "    .dataframe tbody tr th {\n",
       "        vertical-align: top;\n",
       "    }\n",
       "\n",
       "    .dataframe thead th {\n",
       "        text-align: right;\n",
       "    }\n",
       "</style>\n",
       "<table border=\"1\" class=\"dataframe\">\n",
       "  <thead>\n",
       "    <tr style=\"text-align: right;\">\n",
       "      <th></th>\n",
       "      <th>p1</th>\n",
       "      <th>p2</th>\n",
       "    </tr>\n",
       "  </thead>\n",
       "  <tbody>\n",
       "    <tr>\n",
       "      <th>0</th>\n",
       "      <td>F0002/MID1</td>\n",
       "      <td>F0002/MID3</td>\n",
       "    </tr>\n",
       "    <tr>\n",
       "      <th>1</th>\n",
       "      <td>F0002/MID2</td>\n",
       "      <td>F0002/MID3</td>\n",
       "    </tr>\n",
       "    <tr>\n",
       "      <th>2</th>\n",
       "      <td>F0005/MID1</td>\n",
       "      <td>F0005/MID2</td>\n",
       "    </tr>\n",
       "    <tr>\n",
       "      <th>3</th>\n",
       "      <td>F0005/MID3</td>\n",
       "      <td>F0005/MID2</td>\n",
       "    </tr>\n",
       "    <tr>\n",
       "      <th>4</th>\n",
       "      <td>F0009/MID1</td>\n",
       "      <td>F0009/MID4</td>\n",
       "    </tr>\n",
       "  </tbody>\n",
       "</table>\n",
       "</div>"
      ],
      "text/plain": [
       "           p1          p2\n",
       "0  F0002/MID1  F0002/MID3\n",
       "1  F0002/MID2  F0002/MID3\n",
       "2  F0005/MID1  F0005/MID2\n",
       "3  F0005/MID3  F0005/MID2\n",
       "4  F0009/MID1  F0009/MID4"
      ]
     },
     "execution_count": 3,
     "metadata": {},
     "output_type": "execute_result"
    }
   ],
   "source": [
    "kin_data = pd.read_csv('kaggle/train_relationships.csv')\n",
    "print(kin_data.shape)\n",
    "kin_data.head()"
   ]
  },
  {
   "cell_type": "markdown",
   "metadata": {},
   "source": [
    "__3)__ Looping in the directory that contains the training data and:\n",
    "\n",
    "    - Keep the tag (family code/member code) of all existing photos of members in the database.\n",
    "    - Keep the path (family code/member code/image code) of all of the existing photos at the database in the allphotos dictionary.\n",
    "    \n",
    "    \n",
    "- Because of we using the kaggle version of the data there may be some recods that refer to unexisting members so this step will helping to make sure that this will never happen."
   ]
  },
  {
   "cell_type": "code",
   "execution_count": 4,
   "metadata": {},
   "outputs": [
    {
     "name": "stdout",
     "output_type": "stream",
     "text": [
      "number of the members with valid photo 2316\n",
      "sample of the ppl content:  ['kaggle/train/F0390/MID11', 'kaggle/train/F0390/MID5', 'kaggle/train/F0390/MID9']\n"
     ]
    }
   ],
   "source": [
    "#keeps all photos path in a dictionary\n",
    "allPhotos = defaultdict(list)\n",
    "for family in glob.glob(\"kaggle/train/*\"):\n",
    "    for mem in glob.glob(family + '/*'):\n",
    "        for photo in glob.glob(mem + '/*'):\n",
    "            allPhotos[mem].append(photo)\n",
    "\n",
    "#list of all members with valid photo\n",
    "ppl = list(allPhotos.keys())\n",
    "print(\"number of the members with valid photo\",len(ppl))\n",
    "print(\"sample of the ppl content: \", ppl[:3])"
   ]
  },
  {
   "cell_type": "markdown",
   "metadata": {},
   "source": [
    "__4)__ Add 2 columns __p1_path & p2_path__ in the dataframe that represents the path of the member folder that contains all of his/her photos."
   ]
  },
  {
   "cell_type": "code",
   "execution_count": 5,
   "metadata": {},
   "outputs": [
    {
     "name": "stdout",
     "output_type": "stream",
     "text": [
      "(3598, 4)\n"
     ]
    },
    {
     "data": {
      "text/html": [
       "<div>\n",
       "<style scoped>\n",
       "    .dataframe tbody tr th:only-of-type {\n",
       "        vertical-align: middle;\n",
       "    }\n",
       "\n",
       "    .dataframe tbody tr th {\n",
       "        vertical-align: top;\n",
       "    }\n",
       "\n",
       "    .dataframe thead th {\n",
       "        text-align: right;\n",
       "    }\n",
       "</style>\n",
       "<table border=\"1\" class=\"dataframe\">\n",
       "  <thead>\n",
       "    <tr style=\"text-align: right;\">\n",
       "      <th></th>\n",
       "      <th>p1</th>\n",
       "      <th>p2</th>\n",
       "      <th>p1_path</th>\n",
       "      <th>p2_path</th>\n",
       "    </tr>\n",
       "  </thead>\n",
       "  <tbody>\n",
       "    <tr>\n",
       "      <th>0</th>\n",
       "      <td>F0002/MID1</td>\n",
       "      <td>F0002/MID3</td>\n",
       "      <td>kaggle/train/F0002/MID1</td>\n",
       "      <td>kaggle/train/F0002/MID3</td>\n",
       "    </tr>\n",
       "    <tr>\n",
       "      <th>1</th>\n",
       "      <td>F0002/MID2</td>\n",
       "      <td>F0002/MID3</td>\n",
       "      <td>kaggle/train/F0002/MID2</td>\n",
       "      <td>kaggle/train/F0002/MID3</td>\n",
       "    </tr>\n",
       "    <tr>\n",
       "      <th>2</th>\n",
       "      <td>F0005/MID1</td>\n",
       "      <td>F0005/MID2</td>\n",
       "      <td>kaggle/train/F0005/MID1</td>\n",
       "      <td>kaggle/train/F0005/MID2</td>\n",
       "    </tr>\n",
       "    <tr>\n",
       "      <th>3</th>\n",
       "      <td>F0005/MID3</td>\n",
       "      <td>F0005/MID2</td>\n",
       "      <td>kaggle/train/F0005/MID3</td>\n",
       "      <td>kaggle/train/F0005/MID2</td>\n",
       "    </tr>\n",
       "    <tr>\n",
       "      <th>4</th>\n",
       "      <td>F0009/MID1</td>\n",
       "      <td>F0009/MID4</td>\n",
       "      <td>kaggle/train/F0009/MID1</td>\n",
       "      <td>kaggle/train/F0009/MID4</td>\n",
       "    </tr>\n",
       "  </tbody>\n",
       "</table>\n",
       "</div>"
      ],
      "text/plain": [
       "           p1          p2                  p1_path                  p2_path\n",
       "0  F0002/MID1  F0002/MID3  kaggle/train/F0002/MID1  kaggle/train/F0002/MID3\n",
       "1  F0002/MID2  F0002/MID3  kaggle/train/F0002/MID2  kaggle/train/F0002/MID3\n",
       "2  F0005/MID1  F0005/MID2  kaggle/train/F0005/MID1  kaggle/train/F0005/MID2\n",
       "3  F0005/MID3  F0005/MID2  kaggle/train/F0005/MID3  kaggle/train/F0005/MID2\n",
       "4  F0009/MID1  F0009/MID4  kaggle/train/F0009/MID1  kaggle/train/F0009/MID4"
      ]
     },
     "execution_count": 5,
     "metadata": {},
     "output_type": "execute_result"
    }
   ],
   "source": [
    "kin_data['p1_path'] = kin_data.p1.apply(lambda x: 'kaggle/train/' + x)\n",
    "kin_data['p2_path'] = kin_data.p2.apply(lambda x: 'kaggle/train/' + x)\n",
    "print(kin_data.shape)\n",
    "kin_data.head()"
   ]
  },
  {
   "cell_type": "markdown",
   "metadata": {},
   "source": [
    "__5)__ Loopingon all the records and find if it's path existing in the ppl that contains all members paths or not, if not the record will be excluded.\n",
    "\n",
    "- Number of records after data cleansing is 3362 instead of 3598 records."
   ]
  },
  {
   "cell_type": "code",
   "execution_count": 6,
   "metadata": {},
   "outputs": [
    {
     "name": "stdout",
     "output_type": "stream",
     "text": [
      "3362\n"
     ]
    }
   ],
   "source": [
    "kin_data = kin_data[((kin_data.p1_path.isin(ppl)) & (kin_data.p2_path.isin(ppl)))]\n",
    "print(len(kin_data))"
   ]
  },
  {
   "cell_type": "markdown",
   "metadata": {},
   "source": [
    "__6)__"
   ]
  },
  {
   "cell_type": "code",
   "execution_count": 7,
   "metadata": {},
   "outputs": [
    {
     "name": "stdout",
     "output_type": "stream",
     "text": [
      "(50, 6)\n"
     ]
    },
    {
     "data": {
      "text/html": [
       "<div>\n",
       "<style scoped>\n",
       "    .dataframe tbody tr th:only-of-type {\n",
       "        vertical-align: middle;\n",
       "    }\n",
       "\n",
       "    .dataframe tbody tr th {\n",
       "        vertical-align: top;\n",
       "    }\n",
       "\n",
       "    .dataframe thead th {\n",
       "        text-align: right;\n",
       "    }\n",
       "</style>\n",
       "<table border=\"1\" class=\"dataframe\">\n",
       "  <thead>\n",
       "    <tr style=\"text-align: right;\">\n",
       "      <th></th>\n",
       "      <th>p1</th>\n",
       "      <th>p2</th>\n",
       "      <th>p1_path</th>\n",
       "      <th>p2_path</th>\n",
       "      <th>p1_thumb</th>\n",
       "      <th>p2_thumb</th>\n",
       "    </tr>\n",
       "  </thead>\n",
       "  <tbody>\n",
       "    <tr>\n",
       "      <th>873</th>\n",
       "      <td>F0237/MID4</td>\n",
       "      <td>F0237/MID2</td>\n",
       "      <td>kaggle/train/F0237/MID4/P02511_face2.jpg</td>\n",
       "      <td>kaggle/train/F0237/MID2/P02509_face1.jpg</td>\n",
       "      <td>&lt;PIL.JpegImagePlugin.JpegImageFile image mode=RGB size=150x150 at 0x7FD7C0F20EF0&gt;</td>\n",
       "      <td>&lt;PIL.JpegImagePlugin.JpegImageFile image mode=RGB size=150x150 at 0x7FD7C0E595C0&gt;</td>\n",
       "    </tr>\n",
       "    <tr>\n",
       "      <th>2641</th>\n",
       "      <td>F0752/MID1</td>\n",
       "      <td>F0752/MID7</td>\n",
       "      <td>kaggle/train/F0752/MID1/P07891_face4.jpg</td>\n",
       "      <td>kaggle/train/F0752/MID7/P07904_face4.jpg</td>\n",
       "      <td>&lt;PIL.JpegImagePlugin.JpegImageFile image mode=RGB size=150x150 at 0x7FD7C0EAA390&gt;</td>\n",
       "      <td>&lt;PIL.JpegImagePlugin.JpegImageFile image mode=RGB size=150x150 at 0x7FD7C0E59668&gt;</td>\n",
       "    </tr>\n",
       "    <tr>\n",
       "      <th>3174</th>\n",
       "      <td>F0868/MID1</td>\n",
       "      <td>F0868/MID2</td>\n",
       "      <td>kaggle/train/F0868/MID1/P09167_face1.jpg</td>\n",
       "      <td>kaggle/train/F0868/MID2/P09174_face2.jpg</td>\n",
       "      <td>&lt;PIL.JpegImagePlugin.JpegImageFile image mode=RGB size=150x150 at 0x7FD7C0EB4470&gt;</td>\n",
       "      <td>&lt;PIL.JpegImagePlugin.JpegImageFile image mode=RGB size=150x150 at 0x7FD7C0E59710&gt;</td>\n",
       "    </tr>\n",
       "    <tr>\n",
       "      <th>1407</th>\n",
       "      <td>F0402/MID2</td>\n",
       "      <td>F0402/MID4</td>\n",
       "      <td>kaggle/train/F0402/MID2/P04238_face1.jpg</td>\n",
       "      <td>kaggle/train/F0402/MID4/P04236_face3.jpg</td>\n",
       "      <td>&lt;PIL.JpegImagePlugin.JpegImageFile image mode=RGB size=150x150 at 0x7FD7C0EB4518&gt;</td>\n",
       "      <td>&lt;PIL.JpegImagePlugin.JpegImageFile image mode=RGB size=150x150 at 0x7FD7C0E597B8&gt;</td>\n",
       "    </tr>\n",
       "    <tr>\n",
       "      <th>1388</th>\n",
       "      <td>F0393/MID2</td>\n",
       "      <td>F0393/MID5</td>\n",
       "      <td>kaggle/train/F0393/MID2/P04157_face1.jpg</td>\n",
       "      <td>kaggle/train/F0393/MID5/P04154_face1.jpg</td>\n",
       "      <td>&lt;PIL.JpegImagePlugin.JpegImageFile image mode=RGB size=150x150 at 0x7FD7C0EB45C0&gt;</td>\n",
       "      <td>&lt;PIL.JpegImagePlugin.JpegImageFile image mode=RGB size=150x150 at 0x7FD7C0E59860&gt;</td>\n",
       "    </tr>\n",
       "  </tbody>\n",
       "</table>\n",
       "</div>"
      ],
      "text/plain": [
       "              p1          p2                                   p1_path  \\\n",
       "873   F0237/MID4  F0237/MID2  kaggle/train/F0237/MID4/P02511_face2.jpg   \n",
       "2641  F0752/MID1  F0752/MID7  kaggle/train/F0752/MID1/P07891_face4.jpg   \n",
       "3174  F0868/MID1  F0868/MID2  kaggle/train/F0868/MID1/P09167_face1.jpg   \n",
       "1407  F0402/MID2  F0402/MID4  kaggle/train/F0402/MID2/P04238_face1.jpg   \n",
       "1388  F0393/MID2  F0393/MID5  kaggle/train/F0393/MID2/P04157_face1.jpg   \n",
       "\n",
       "                                       p2_path  \\\n",
       "873   kaggle/train/F0237/MID2/P02509_face1.jpg   \n",
       "2641  kaggle/train/F0752/MID7/P07904_face4.jpg   \n",
       "3174  kaggle/train/F0868/MID2/P09174_face2.jpg   \n",
       "1407  kaggle/train/F0402/MID4/P04236_face3.jpg   \n",
       "1388  kaggle/train/F0393/MID5/P04154_face1.jpg   \n",
       "\n",
       "                                                                               p1_thumb  \\\n",
       "873   <PIL.JpegImagePlugin.JpegImageFile image mode=RGB size=150x150 at 0x7FD7C0F20EF0>   \n",
       "2641  <PIL.JpegImagePlugin.JpegImageFile image mode=RGB size=150x150 at 0x7FD7C0EAA390>   \n",
       "3174  <PIL.JpegImagePlugin.JpegImageFile image mode=RGB size=150x150 at 0x7FD7C0EB4470>   \n",
       "1407  <PIL.JpegImagePlugin.JpegImageFile image mode=RGB size=150x150 at 0x7FD7C0EB4518>   \n",
       "1388  <PIL.JpegImagePlugin.JpegImageFile image mode=RGB size=150x150 at 0x7FD7C0EB45C0>   \n",
       "\n",
       "                                                                               p2_thumb  \n",
       "873   <PIL.JpegImagePlugin.JpegImageFile image mode=RGB size=150x150 at 0x7FD7C0E595C0>  \n",
       "2641  <PIL.JpegImagePlugin.JpegImageFile image mode=RGB size=150x150 at 0x7FD7C0E59668>  \n",
       "3174  <PIL.JpegImagePlugin.JpegImageFile image mode=RGB size=150x150 at 0x7FD7C0E59710>  \n",
       "1407  <PIL.JpegImagePlugin.JpegImageFile image mode=RGB size=150x150 at 0x7FD7C0E597B8>  \n",
       "1388  <PIL.JpegImagePlugin.JpegImageFile image mode=RGB size=150x150 at 0x7FD7C0E59860>  "
      ]
     },
     "execution_count": 7,
     "metadata": {},
     "output_type": "execute_result"
    }
   ],
   "source": [
    "sample_data = kin_data.sample(50)\n",
    "sample_data['p1_path'] = sample_data.p1.apply(lambda f: add_image_path(f, 'kaggle/train/'))\n",
    "sample_data['p2_path'] = sample_data.p2.apply(lambda f: add_image_path(f, 'kaggle/train/'))\n",
    "sample_data['p1_thumb'] = sample_data.p1_path.map(lambda f: get_thumbnail(f))\n",
    "sample_data['p2_thumb'] = sample_data.p2_path.map(lambda f: get_thumbnail(f))\n",
    "print(sample_data.shape)\n",
    "sample_data.head()"
   ]
  },
  {
   "cell_type": "code",
   "execution_count": 8,
   "metadata": {},
   "outputs": [
    {
     "data": {
      "text/html": [
       "<table border=\"1\" class=\"dataframe\">\n",
       "  <thead>\n",
       "    <tr style=\"text-align: right;\">\n",
       "      <th></th>\n",
       "      <th>p1</th>\n",
       "      <th>p2</th>\n",
       "      <th>p1_thumb</th>\n",
       "      <th>p2_thumb</th>\n",
       "    </tr>\n",
       "  </thead>\n",
       "  <tbody>\n",
       "    <tr>\n",
       "      <th>873</th>\n",
       "      <td>F0237/MID4</td>\n",
       "      <td>F0237/MID2</td>\n",
       "      <td><img src=\"data:image/jpeg;base64,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\"></td>\n",
       "      <td><img src=\"data:image/jpeg;base64,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\"></td>\n",
       "    </tr>\n",
       "    <tr>\n",
       "      <th>2641</th>\n",
       "      <td>F0752/MID1</td>\n",
       "      <td>F0752/MID7</td>\n",
       "      <td><img src=\"data:image/jpeg;base64,/9j/4AAQSkZJRgABAQAAAQABAAD/2wBDAAgGBgcGBQgHBwcJCQgKDBQNDAsLDBkSEw8UHRofHh0aHBwgJC4nICIsIxwcKDcpLDAxNDQ0Hyc5PTgyPC4zNDL/2wBDAQkJCQwLDBgNDRgyIRwhMjIyMjIyMjIyMjIyMjIyMjIyMjIyMjIyMjIyMjIyMjIyMjIyMjIyMjIyMjIyMjIyMjL/wAARCACWAJYDASIAAhEBAxEB/8QAHwAAAQUBAQEBAQEAAAAAAAAAAAECAwQFBgcICQoL/8QAtRAAAgEDAwIEAwUFBAQAAAF9AQIDAAQRBRIhMUEGE1FhByJxFDKBkaEII0KxwRVS0fAkM2JyggkKFhcYGRolJicoKSo0NTY3ODk6Q0RFRkdISUpTVFVWV1hZWmNkZWZnaGlqc3R1dnd4eXqDhIWGh4iJipKTlJWWl5iZmqKjpKWmp6ipqrKztLW2t7i5usLDxMXGx8jJytLT1NXW19jZ2uHi4+Tl5ufo6erx8vP09fb3+Pn6/8QAHwEAAwEBAQEBAQEBAQAAAAAAAAECAwQFBgcICQoL/8QAtREAAgECBAQDBAcFBAQAAQJ3AAECAxEEBSExBhJBUQdhcRMiMoEIFEKRobHBCSMzUvAVYnLRChYkNOEl8RcYGRomJygpKjU2Nzg5OkNERUZHSElKU1RVVldYWVpjZGVmZ2hpanN0dXZ3eHl6goOEhYaHiImKkpOUlZaXmJmaoqOkpaanqKmqsrO0tba3uLm6wsPExcbHyMnK0tPU1dbX2Nna4uPk5ebn6Onq8vP09fb3+Pn6/9oADAMBAAIRAxEAPwCfy0A2hQaaNO3/ADEVdgjBGcVbAG2uaSPVpsyY9PG/pxV5bFMdKeykPx0q0i/LXOzpRWWyQHpTxZLngVbUDPNTAjtip0YymLUKOlSImOlW9u4elRlSOlS1YtIBIQMU1ySOtITg8007T1oFykEmAPeqkqk8gVoeWrU77MpHSlcrlRjNkriodjZzWxLag9MVXMIBxQTYoiMkZxToo8uDV/ytq4IpscWGyKpES0Qv2cOORV61j8qI4FMXheRVuDDJgda6I7HFN6mpo0TNG7Me9FWNGGyFweeaK2Ryvc4iHO3mpSMYINMjK+WOeak6pWFSdtD0YR0EPJFW4VOOarLjNX7fbjkiueTNloI0LdQDQhIq3vB4BqPzYg+DjNRdopSQ1ZRnBHNTFVYUbYpDkEU/CLxmqWo+dFV4l6iowgJqzKoHSoguMGk00WncasY3YqR1206MbnNJNMkfBxmhJkudiu+70qARMXzirH2uMAk4qMXcZGQaGmRzjXjOOahT5TU0lyCBxmo2cE5HeiNyZNNCiX5sGrcRwQ3asuRsSitJD+4BruivdOKpudLpJDRMcUUugfNA1FbLY5ZPU4D7uKm37V5qtK2CKk8wNHXnT1kevFaFsL8u6lVmJwpqqlwVXDdKrzX7rkQjLelXFEtmsrSg4FUbozq27JFY8lzrUufLhIz71XRdfeTEsJ2+ua1UU9yHdGmNQukONxx9anh1mRfvk1SSwvQQXQ81JPp9wUH7vAp8qRWpsQ6qZ5AAMitLflM47Vh6XbbMbutbpU+V0rmlVR0RjoYt3qxtpSq9azX1S4kJJHWrOq2rtMGQZ59Koy21067VTH4VtT5ZRuYTupWRKjzTkZP61o29syrlmH51zhstaQ/ugNvvVuC31gD5+tW4xsZ2d9TpFRSvJqMKMnnpWNFcXkUuy4U/UCtCOQvz0rCSL0JpACFPetAj/Qhjrisx5RgYFaUXNn9RXRTfunLVXvHQeGJg1vIpPQ0VQ8OFkE3NFbJ6HLJanHzsAeKlhZZMKBzVeZuaktWw4Jrz5dz1o9jYjsonTDcZpU02GJyygNTopdygCrUaE1POzTkEQpGuNg/KpFnhI5UflUgiB7UfZou+apVbE+z6ogaeFxhV5ppwyEECp2jjRTtHNU5JCuazlNs1jAgjIWbAHetPbiLmspDmbNa45i/CpWxTM/5RNgjNWWjQjO0VTkbMxqSOVtw5pXaYnHmJxIqADy+PpUivu5Cj8qkQK4GRUgQBflrb2jaM/Z6lJ7dHOZFB/Cs68hVP9VxWrMSKzpmGDmp5mJwKMeM7WNaNu+E8smssoWkyO1WoCWlAHXNdlP4TkqrW51GjRMquQOtFaOjQ7bf5hziit1scMtzzCTHWlhaopTyfaiNjt6V58j14G1aScitiFuBXN2rkd62IZsAVnY6EkzYABFI/yjrVVbkbetVbnUFiBJaq5FuJXLM0iopyaxpL3LkBTjNVbm8mnOVB2+tTxBPJBYgkipsrFFuzPmEGtlVHkn6Vj2JUnC4rUDEDBNFtCWZN4TEWYdaqWl9mbbJx9av6goBGfWsi5iVxlCAwqfUd7HUW7oy8GpyQBxXG2mqyQSeVIcYrcj1ASIOauyQtyzcPmsm6kxk1YluAQeazJ5N2RUrcJaIdAzMdw5FbGjWv2i7JI4Xmqekxq0LAjJrpdEgCAtjk12w+FHn1nob9qBGu0CipraP5frRXQk7HnPc8ZYhyxpUztIpbhBFcMnoafCAa4Zo9em76iRuymri3JTGTUXl5PAqteRSrH8gJNZo6E7FqbVFjXCtlvSqkbT3s4Zidmai0+wBffct+ddDALZUwm2qegcwwxqttsUdRWBdC9iLBAxHauq2IycGqssIyMjNEGk9Qk7rQwNP1aWzkxcgr6E1rv4hh253ioL6xjmjxtGfpWMNFEkmN7YzWzpqWqMlVadmixe65Lev5dsN3vVzT7eYgNMTuNS2mmRW6ABRn1xWlGgUZ4rCdti023cydTsGZfMjHzDmqFrfPGfLl4NdM8sQGGI5rB1WySSVHiP1xUrazL5tSRrsucA0ZLdc1FFp8jKpqyU2YXvStqKb0NLTZNoCqCSeK7TTYWSJAetYeh2UaQCZly5rrLGPPzV20o3PLxFVPRF6Jdoop1Fdi2OI8W1YeXqEg96LU5PvVfUdVttTvZDbsGCnrSWcmH5NefNHq0XojXjXL81eitkf7wzVSPBwRV2JsnisGdiK11pPnHAYqPasW50u+spd8TMye5rqSWLZp7bWQhhnNVCST1RMoPuc3a3N5gbgKu+fMVGUOT7Vaa1CSbo8Z960becDaJIwce1dcY0mc8lWXmYq3Gfvxt+VMdw2TFE2fpXWxNZMhDxdfalRbKFS2yq5YGXtKifwnHrHfOCVQ4+lUL6e/tkOMbugFdzNfxBWWKP8ASsJ4VmnLyYJ7UP2cVqjSHtpPXQwdNsb+8g825OM9q1otP8pPnOfrWmnCheMD0pso3DA6Vw1JXeiOpRtuZZfyyQOlViS8o+taEsQWqYXdcqgHNKKuKo9GdfpvFsi+uK6i1XbEKxdMsjsQkdhW8g2qBXpUoWR4lWV2SUU3NFa2Mj5z8K6VNDoYvZMnzRnJrShfbJ3rtNN0hV8GwwKvzKlcTcKbecowwVPNctaOtzvw07qxv275QYNaNu3Iz1rE06UOBk8Vrj93hh0rjZ6MWaJXvTTjuKZFKHUHNSEcVnsaJ3IHVs5B4p8d40ZwRkVIq0eUpq4zQOJML+HHzLUcuo2xBwP1qJrMP2pn2GMdVFaOoiOUie8MjFY1wKdGmOT19al+zqo+QYNOKVm6ly1Aci8Uj4HbpQXCiqzyGV8LxUomTIrp8ZNR6LEbm/DkcKahvpM/uh949K3NEthAqD+JuTW9KOpyYido2OztF2wgY7VPmoYBiIVKetemeQx2aKZmigDBsoglnFHjgKK47xfoZjc3US/K3LYru4EJVR2wKkurOO7gMTjIYY5pSSkrGkJuLujxewuDHJt966S2ufMi2tUHiPwxNp0zTwKTHnPArNs7vbgE8+9cFSlys9OlVUlc1xdGB8E8Vp2t0syfeGaxJWWVN1VYLprWbOTtrLlN1Kx1xI6CliGTzWVb6gr4O4VoJOrDg81Cgbc10XACO9MkHFR+eqjk01rhSvWjkEmJu2mmNJgZzVWa7UZGRWfcX2f3aHJNJQbYSnZFuS4aWTYnT2qSV1tock/NjrVSGSO2j3EgmsTXtRmNjPLEOFUmtFTvZI55Ttdsy9W8Yxadq0QO1hu+b2r0bwtrdlrKxvDIu4dQTXzLdXb3d3JLI2WJrQ0nXb3RrhZ7WUgqckE8V3RppHl1Kzk2fYyDChTSg4NeL+HvjXF5KRakrFhxlRXfaZ8QdC1LG2dYyf77CtzA6uiqsOoWVwu6K7iYezUUwIrQfIv+6KtqM0UUh9CK6tI7qFo5FBBHevMPEWhrp10zxONpOcUUUSScdTShJ86RlxTMFweabNhx0waKK4GtT0myoZpIDhW4q3BrEq4GKKKpIpNlr+1ZCMkGq0+tS4IUEUUVdkU5OxSN9NM3JqxDIYvm6miis2rGSk2BuJLiZYQcZOK39W0eK28ITnguYzzRRW1NI567dj51mXZOw9DSg55oorZnCISD65p6yvFhkdgR70UUDNay8V6zYpthu2A6UUUUwP/Z\"></td>\n",
       "      <td><img src=\"data:image/jpeg;base64,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\"></td>\n",
       "    </tr>\n",
       "    <tr>\n",
       "      <th>3174</th>\n",
       "      <td>F0868/MID1</td>\n",
       "      <td>F0868/MID2</td>\n",
       "      <td><img src=\"data:image/jpeg;base64,/9j/4AAQSkZJRgABAQAAAQABAAD/2wBDAAgGBgcGBQgHBwcJCQgKDBQNDAsLDBkSEw8UHRofHh0aHBwgJC4nICIsIxwcKDcpLDAxNDQ0Hyc5PTgyPC4zNDL/2wBDAQkJCQwLDBgNDRgyIRwhMjIyMjIyMjIyMjIyMjIyMjIyMjIyMjIyMjIyMjIyMjIyMjIyMjIyMjIyMjIyMjIyMjL/wAARCACWAJYDASIAAhEBAxEB/8QAHwAAAQUBAQEBAQEAAAAAAAAAAAECAwQFBgcICQoL/8QAtRAAAgEDAwIEAwUFBAQAAAF9AQIDAAQRBRIhMUEGE1FhByJxFDKBkaEII0KxwRVS0fAkM2JyggkKFhcYGRolJicoKSo0NTY3ODk6Q0RFRkdISUpTVFVWV1hZWmNkZWZnaGlqc3R1dnd4eXqDhIWGh4iJipKTlJWWl5iZmqKjpKWmp6ipqrKztLW2t7i5usLDxMXGx8jJytLT1NXW19jZ2uHi4+Tl5ufo6erx8vP09fb3+Pn6/8QAHwEAAwEBAQEBAQEBAQAAAAAAAAECAwQFBgcICQoL/8QAtREAAgECBAQDBAcFBAQAAQJ3AAECAxEEBSExBhJBUQdhcRMiMoEIFEKRobHBCSMzUvAVYnLRChYkNOEl8RcYGRomJygpKjU2Nzg5OkNERUZHSElKU1RVVldYWVpjZGVmZ2hpanN0dXZ3eHl6goOEhYaHiImKkpOUlZaXmJmaoqOkpaanqKmqsrO0tba3uLm6wsPExcbHyMnK0tPU1dbX2Nna4uPk5ebn6Onq8vP09fb3+Pn6/9oADAMBAAIRAxEAPwDzhLZhIX25Hoagkt2YhN5VSckGtvyfLAJGB7daja28xixGD0qGzZRIbVMYdASF+UVu6Tbs8+8Yx6+lVDZ+XFGiLgdz610WlWscUaBvvelZtm0YnaaHbgIBGpz3Y11VvDhQO9ZOiwnyEYqRx0rfiTaOmDUWLbsKIwKXAFPPSmP2pk7leboRxWZcDdkd61mXPaqNxFg5FRNGkGZEkIJxiqUlr8xxWxKnHFQFM9awsamFcWik5xz3rn9S01WBwOa6+ddxIHWsm6hLA8UXsVueZ6zpXm27gjmuAlhaOR0Iwwr2TUrXcWGOteZeILQW99uA4PWuylK6scWIglqUbWJn2lzhD3A7+9dVZLLBEhkZTu6HtiuYs5fs8wZeQeqnpXWW8iyKzr8qlQAvaumKOS4kny5YDqemaKcMbTkc560VVgN9NPYSID0I71LBZKJMt8xz0xXTT2PlDzNo2nhM9zUI08oWccn27Vx8x3WMiWIed90sSOnpXS+H9FnnmjkaPC989qsaHoX2ifzHBKj1rvLSyS3jCqgHHPFK9x3SG21qIUCjtVwKSMAU5UwMGmPOsRxnmghu7HbMDJqF5YUPzOB6VlajqskTsqRu3H3gK47VtU1PzEliUgZ9OtAz0fMZGdwqpMyAHpXlE/jbVrWZUltm2k8t6Vr2XjBp0IlHzDtnmoky4ps62c4PBqJWFZiass23B61bilUjGRWRt0FaMNITVS6gwDwKspMplwSBTZp0JIJGKVgvY5PUYeOmDXmPjKDYUbH8RH1r13UjbnJZgM9Oa8s8dY8ldpBG/qO1bUk0zGs00clbLudMAEe9dDBIRFtyDjpiudtHwck8jitSGYY+XkV3RPPNVZSD149KKrFjgHOM0VdwsfRGr6VGEQBSUU5A9KqG0RogAuM8YFdTqEIktj6isy2tGKhsdK84773LeiWSW1vgdTya1Tx0plnEUi5xk1KVPNWjNsaWG09sU0LGScAHdTHDj7pGSOlZV3qxsEaS4hKgd05zSbGlc0pFiTqoJrOujbKuGEQHUbuK4HxF4s8S3U7Wnh/SZn45mZeK818QXniGwkX+0JL5p2GXyCEB9qWsivhPXtTtLG5RiFjb1INcbc2ccF0XQ4weK56zOqrp8N+t0wjfnazVsWGofa4sy7SR3qWmjWDuasM0kZXf1J4xXT2zYgDMecdTWXotsl8u7bn0rZvLc21s/wAp4Has2jTQwr7VktGJ3c1ymo+KJyxWNj9BUV7K97fuqnI3Y/GtC20CFVEty6IO+84/KriiJ6nNSavPcDc5c4PHNZmuvJc6dhsAA5HNelR6ZpCDAEcmOuCM1ynjGwsodNnuLZQCmOPrW0Z6nPOm7bnmpfawA6nqK2rFNqZHc96w4iZZwW5roLcYhGfXrXTc5C6cMBgdKKRDuXgiimB9ZTRAxsMdqq28YVNuOavFt0XPXFVUOJMGuI60y5HwBSsMmmocAVJVkkMke4elU57OOSM71yK0CM1GUzRYadjAuYDa/NbXaR9yrjtXMa5rMTRGG9tFmQNjIIYYrv54IiCSgJ96wrzTbKYlpYEY9cYrOVzaDT3PLry70WYYjtiijpGOAKq6XpCXErfYIpY0Y4Kt0616Bc6Ppmcm3Qc5rX0jT4I4xsQBfpS3NW0kN0DR1srSNSDkDnPerus2JksZNowdp6VrwxBcADii+TEWcdqvl0MXPU+dRDdJG729vJPcGRlSNR1Oe9YWqaZ4skl33tpeFeoVBlRXqup+HJBeStazmKTllCnjJrNCeKNPb5c3EffnOaE7FOPMed3tlPYRxyxG9SfaGkAzwaff3r3fhq6Zm3MFHzHvXc3WqanLCUl0xgSCHwlcT4g0+W30i6d0CLkEYGOtVCSbMpwlFbnE2+E+cc81rpLtjYfxAAjuDWOGxHgeuKnWZhypxxjFdBxmvFdBc0VkeYc9e1FO4H2rG26MkVGASc9xSW9yks7IpBHXirOwZ4Fch1PRioOKlAzTccUoOKaJbAr60HAFI0gqtNOFHBp3SGotjblwAccmsG8kJJwcVcubgEcGsS9vUjzlhx71jOR0U4DI4N8wZ8kA10lhGFQFRxiuGTVGurpYIGwS2Ca7rT7YxQKqsWOOWNFPc0rKxoocDFOkAeMg9KEUAcmlcqqE1vocfU4zWYHgvVlTvwaZFNuXa6jPar2ryiXcBjI6VkWd1HMMNjctYyep1RWhNdRb4jtwG+lea+Prcr4eviQMhlP616g7Db7VwPxFjB8MX2D02k+vWiHxCqfCeEkkj6Gno31qPk9KVCdpFdp5rLA+6CDgmip4LZ5otyAHnkHtRSuHKz6805PJun4+8BzW2p6VlRqEl3CtJSCBXHE7KmpOKjkfaDilLACqk7kZPaqb0JSuRy3OOM1n3NwSc5qGecm7SPOATReEJET0x3rFyubxjZmNqOo+SjEnFcbeanPezmG3JZmOOKNd1OS6v/s0WQB1rR8PaUilZXzn6Ukr7nQ3yo0tI0JoLdWVts5+bPvW/H4hGnI0V2jiRP4gMhqsQQpGgIbPFJcRLKu6RAwArRRsjOU+bc5uT4ialJemO28M300AOPNDAEj1ArdTxGLy28xRInZldcFT6VjX86Wh3o5GD0Fc7qni24WJ4440Xn7xHWhtvQFCJr6pq7qSoP36zdM1ELMwJw2eRXJtf3F3diaaUkgcKOgq2lz5cyuOPWps0Xod7/aClDXGeOLpT4cv25wVCcmr4uCy8HtmuE+IGqYgi04H5m/eSD0HarpasyrWUDz8D5+tS28ZaTGepxUaruXIPINWrZd8q8deK7G7I8xas6zw3YHZOrrkqRxRWzp1k/2OJkwzFfnPuKK5nPU9CNHQ+g1PFW4nytU1HFODlD7VimQ43LZaoJT8ppPNBprtlTTbuOMbGNcgi9jYetPvctE2PSpZ0y4NJMAYSPas2bJnlmp2Mo1xjH1b1q94f1zVX1ebSjpyRi2G8yOcbhWxJZfadYGR8vc1unSxKpntyIrtUKLKy5HtkVpBXHMrQ6ldmze4l00gByMIecetVptftk8uS6juYEfhA4IzUkY1yy0SOyeOK+vXc77jkRoCfTvWk95plxqtrBckZgXLM4+TIHb0q+UhNroczf3VhcD/AFxTPZhg1y17bQfMI33ZPWvRdR0XTNT1OMiaFiiFsI45rzLxPNaaLczqZQ77SUjRs8noOKFEv2l1sVlhiiO9pYxjtuFCg3rqIicFhyK5XRNInnuDdXAbJJIVs9a9D0y3jtLQuwBalLQUG3qxsrpbK+9gAgyT7CvHdWvZNS1W4uWJYu5wfbtXd+L9W+zaa8Kt++uTtAzyE7mvOQDuyBW1GNlc5cTO7sLECr49atREqyMDgg5qHHPNPU7W6Vq0cux6lo10v2NGxwVorD8M3nmWRQkZXiisHE9KnP3UfSiU6RcimgGl7c1gQVmYxn5jmpVYMoIqKYB8ioY5PKbafumpuNE0ibqidcpj2qXfuGBTM8/WgvYx448XZPeteNV245BNVmhBkLAcirTIdgIqojbHSbUAKvg1i61DFc2zgwozEYY+tXbhWeP5SQwrnNU+2gEowAH61fMVDzMWbS7Bn8+W2KygbQyuRxWBcaVbxyO6wKXfqWOTWtcPdMxDbicdaqGGYtlmOaOY6HOFrJFeCFIVPAwKlu7tIrdnc7Y0GWNE8bKioPvHtXLarffaJTbxkNbxHBH99/8A61EY8xx1qnKjk9d1CXUdSlnlBBHEa/3V7VTAUrlfStPUrVmm3qQ0mMue30rKIZCQRgjtXYlZWPOk3J3Fzjg96cpz3pA2Tg0EYGRTJNXSrz7Iz4JGRziis6Oiosaqo0rH2WAMU1h1p7DnimSHC1xM6ym5wxqrNyKsydarScCs2XEri5MLfMeKn+0qV4P0rOuWIJBHFZUl69tLxkr6Url20OrhcMNx79atptz7Vy1pq6FgHO3PathLwMBggj2NaJkSRfkRGOOlZ95bxFiGGRSy3GV+Vunaq1xcFRuJBGOlUUmzLntopGOOAOKzTYx+cMHPPetU3MfmsMDHWsy/1BYlYRj5jxxQtWPmsjlvEt2thazSJt3v8ic1wECPDIC0gDLlsDnBNbOr6iuo37WsZDJGcfL/AHvWsfHlMcJgg856muqnGyOGtLmYTx5R3OGJHzN71nXFnvcEDqM1rlQ0Y25xjkYqvJFsUEDJ/lWpiY7WrDO0ZH05qN0KDOD710KQh4lYjBHWlltYriPAUAEYP1oEc7uCgHHB7UUyVWidkAJZTg0UAfaJwRxUEp+XFFFeezuKcvBqtIfrRRUFozbuTaCuM+lY12obrRRWZtEoOgHTNQJe3Fm/ySsQOxNFFUFiwPEEr5JUhvbpRLqc88h+chUXketFFbQ3IehUmu5IkdmkbA9BXJar4oLM1taxMrk5aR25/Ciit4pXOebdmcu4Nne7UYlJP3nPUZ7VeulVohKcll6+9FFbo5Oo23b92oXIzk9ammiCQMx7elFFMBqcwKo496dEgCeX2PSiigRj61aCKZZVIBbg0UUUAf/Z\"></td>\n",
       "      <td><img src=\"data:image/jpeg;base64,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\"></td>\n",
       "    </tr>\n",
       "    <tr>\n",
       "      <th>1407</th>\n",
       "      <td>F0402/MID2</td>\n",
       "      <td>F0402/MID4</td>\n",
       "      <td><img src=\"data:image/jpeg;base64,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\"></td>\n",
       "      <td><img src=\"data:image/jpeg;base64,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\"></td>\n",
       "    </tr>\n",
       "    <tr>\n",
       "      <th>1388</th>\n",
       "      <td>F0393/MID2</td>\n",
       "      <td>F0393/MID5</td>\n",
       "      <td><img src=\"data:image/jpeg;base64,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\"></td>\n",
       "      <td><img src=\"data:image/jpeg;base64,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\"></td>\n",
       "    </tr>\n",
       "  </tbody>\n",
       "</table>"
      ],
      "text/plain": [
       "<IPython.core.display.HTML object>"
      ]
     },
     "execution_count": 8,
     "metadata": {},
     "output_type": "execute_result"
    }
   ],
   "source": [
    "HTML(sample_data.head()[['p1', 'p2', 'p1_thumb', 'p2_thumb']].to_html(formatters={'p1_thumb': image_formatter, 'p2_thumb': image_formatter}, escape=False))"
   ]
  },
  {
   "cell_type": "markdown",
   "metadata": {},
   "source": [
    "## Data Analysis\n",
    "\n",
    "__1)__ To make a more understandable analysis the 1000 family will be divided into 10 groups each have a 100 possible family on it. \n",
    "\n",
    "__2)__ Counting the number of occurence of each group in the dataframe that will be used for training our model."
   ]
  },
  {
   "cell_type": "code",
   "execution_count": 9,
   "metadata": {},
   "outputs": [
    {
     "name": "stdout",
     "output_type": "stream",
     "text": [
      "{'F00': 520, 'F01': 782, 'F02': 662, 'F03': 604, 'F04': 590, 'F05': 602, 'F06': 786, 'F07': 794, 'F08': 748, 'F09': 592, 'F10': 44}\n"
     ]
    }
   ],
   "source": [
    "# from the training pairs how many pairs come from a range of 100 of family codes\n",
    "fam = ['F00', 'F01', 'F02', 'F03', 'F04', 'F05', 'F06', 'F07', 'F08', 'F09', 'F10']\n",
    "f = {}\n",
    "for family in fam:\n",
    "    f[family] = kin_data.p1.str.count(family).sum() + kin_data.p2.str.count(family).sum()\n",
    "    \n",
    "print(f)"
   ]
  },
  {
   "cell_type": "markdown",
   "metadata": {},
   "source": [
    "__3)__ Counting the number of members in each group.\n",
    "\n",
    "__4)__ Counting the actual number of family codes in each group."
   ]
  },
  {
   "cell_type": "code",
   "execution_count": 10,
   "metadata": {},
   "outputs": [],
   "source": [
    "# count the number of members in the dataset per a subset of 100 of family codes\n",
    "counter = {}\n",
    "count = 0\n",
    "\n",
    "for family in glob.glob(\"kaggle/train/*\"):\n",
    "    count = 0\n",
    "    for mem in glob.glob(family + '/*'):\n",
    "        count += 1\n",
    "        counter[family] = count\n",
    "    \n",
    "c = pd.DataFrame.from_dict(counter, orient = 'index').reset_index().rename(columns = {'index':'family', 0:'count'})\n",
    "\n",
    "z = {}\n",
    "for famil in fam:\n",
    "    z[famil] = c.family.str.count(famil).sum()"
   ]
  },
  {
   "cell_type": "code",
   "execution_count": 11,
   "metadata": {},
   "outputs": [],
   "source": [
    "# count the number of exists families of each subset of 100 family codes\n",
    "n_families = {}\n",
    "\n",
    "for x in fam:\n",
    "    count = 0\n",
    "    for family in glob.glob(\"kaggle/train/*\"):\n",
    "        count += (x in family)\n",
    "        n_families[x] = count\n"
   ]
  },
  {
   "cell_type": "markdown",
   "metadata": {},
   "source": [
    "__3)__ Visualize all of the above analysis."
   ]
  },
  {
   "cell_type": "code",
   "execution_count": 12,
   "metadata": {},
   "outputs": [
    {
     "data": {
      "image/png": "[encoded data removed]",
      "text/plain": [
       "<matplotlib.figure.Figure at 0x7fd7c0e17f28>"
      ]
     },
     "metadata": {
      "needs_background": "light"
     },
     "output_type": "display_data"
    }
   ],
   "source": [
    "colors = ['C0', 'C1', 'C2', 'C3', 'C4', 'C5', 'C6', 'C7', 'C8', 'C9', 'black']\n",
    "\n",
    "x1 = f.keys()\n",
    "x2 = z.keys()\n",
    "x3 = n_families.keys()\n",
    "\n",
    "y1 = f.values()\n",
    "y2 = z.values()\n",
    "y3 = n_families.values()\n",
    "\n",
    "fig, ax = plt.subplots(3)\n",
    "\n",
    "ax[0].bar(x1, y1, color = colors)\n",
    "ax[0].set(xlabel = 'Family Code', ylabel = 'Occurrence')\n",
    "\n",
    "ax[1].bar(x2, y2, color = colors)\n",
    "ax[1].set(xlabel = 'Family Code', ylabel = 'Number of Members')\n",
    "\n",
    "ax[2].bar(x3, y3, color = colors)\n",
    "ax[2].set(xlabel = 'Family Code', ylabel = 'Actual number of families')\n",
    "\n",
    "fig.set_figheight(15)\n",
    "fig.set_figwidth(15)\n",
    "plt.show()"
   ]
  },
  {
   "cell_type": "code",
   "execution_count": null,
   "metadata": {},
   "outputs": [],
   "source": []
  }
 ],
 "metadata": {
  "kernelspec": {
   "display_name": "Python 3",
   "language": "python",
   "name": "python3"
  },
  "language_info": {
   "codemirror_mode": {
    "name": "ipython",
    "version": 3
   },
   "file_extension": ".py",
   "mimetype": "text/x-python",
   "name": "python",
   "nbconvert_exporter": "python",
   "pygments_lexer": "ipython3",
   "version": "3.6.3"
  }
 },
 "nbformat": 4,
 "nbformat_minor": 2
}
